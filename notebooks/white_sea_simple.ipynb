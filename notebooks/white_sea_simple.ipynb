{
 "cells": [
  {
   "cell_type": "code",
   "execution_count": 1,
   "metadata": {
    "pycharm": {
     "is_executing": false
    }
   },
   "outputs": [],
   "source": [
    "import sys\n",
    "sys.path.append('../')\n",
    "\n",
    "import numpy as np\n",
    "\n",
    "from ForwardModeling.ForwardProcessing1D import forward_with_trace_calcing\n",
    "from Inversion.Strategies.SeismDiffInversion1D import inverse\n",
    "from Inversion.Optimizators.Optimizations import LBFGSBOptimization, DifferentialEvolution, TrustKrylov, TrustConstr, \\\n",
    "    ConjugateGradient\n",
    "from Tests.test_ForwardProcessing1D import get_model_2layered, get_model_3layered\n",
    "from Data.geol_models import get_model_3layered_fluid_rp_dicts\n",
    "from Objects.Data.WavePlaceholder import OWT, WaveDataPlaceholder\n",
    "from Objects.Models.Models import SeismicModel1D\n",
    "from Objects.Attributes.RockPhysics.RockPhysicsAttribute import RockPhysicsAttribute\n",
    "from Objects.Attributes.Seismic.SeismicAttribute import SeismicAttribute\n",
    "from Objects.Models.Layer1D import Layer1D, LayerOPT\n",
    "import time\n",
    "\n",
    "from matplotlib import pyplot as plt\n",
    "from Inversion.Strategies.SeismDiffInversion1D import func_to_optimize\n"
   ]
  },
  {
   "cell_type": "code",
   "execution_count": 2,
   "metadata": {
    "pycharm": {
     "is_executing": false
    }
   },
   "outputs": [],
   "source": [
    "def plot_1D_err(forward_params, nvals, min_max=None, dot=False, vline_x=None):\n",
    "    \n",
    "    if min_max is None:\n",
    "        min_val = forward_params['model'].get_optimization_option(\"min\", vectorize=True)\n",
    "        max_val = forward_params['model'].get_optimization_option(\"max\", vectorize=True)\n",
    "        \n",
    "    else:\n",
    "        min_val = np.array([min_max[0]])\n",
    "        max_val = np.array([min_max[1]])\n",
    "    \n",
    "    dval = (max_val - min_val) / nvals\n",
    "\n",
    "    val_x = [min_val + dval*i for i in range(nvals+1)]\n",
    "    errs = []\n",
    "    for val in val_x:\n",
    "        errs.append(func_to_optimize(val, placeholders, forward_params, helper=None, show_tol=False))\n",
    "        \n",
    "    plt.plot(val_x, errs)\n",
    "    if dot:\n",
    "        plt.plot(val_x, errs, 'o')\n",
    "        \n",
    "    if vline_x is not None:\n",
    "        plt.vlines(vline_x, ymin=min(errs), ymax=max(errs), colors='r')\n",
    "        \n",
    "    plt.show()\n",
    "\n",
    "def optimization_func_2D(forward_params, x, y):\n",
    "    indexes_1 = np.arange(x.shape[0])\n",
    "    indexes_2 = np.arange(x.shape[1])\n",
    "    \n",
    "    Z = np.zeros((x.shape[0], x.shape[1]))\n",
    "    \n",
    "    for ind1 in indexes_1:\n",
    "        for ind2 in indexes_2:\n",
    "            Z[ind1, ind2] = func_to_optimize([x[ind1, ind2], y[ind1, ind2]], placeholders, forward_params, helper=None, show_tol=False)\n",
    "        \n",
    "    return Z\n",
    "\n",
    "def plot_2D_err(forward_params, nvals, ncontous=10, points=None):\n",
    "    min_val = forward_params['model'].get_optimization_option(\"min\", vectorize=True)\n",
    "    max_val = forward_params['model'].get_optimization_option(\"max\", vectorize=True)\n",
    "    \n",
    "    dval = (max_val - min_val) / nvals\n",
    "\n",
    "    val_1_x = [min_val[0] + dval[0]*i for i in range(nvals[0]+1)]\n",
    "    val_2_x = [min_val[1] + dval[1]*i for i in range(nvals[1]+1)]\n",
    "\n",
    "    X, Y = np.meshgrid(val_1_x, val_2_x)\n",
    "\n",
    "    Z = optimization_func_2D(forward_params, X, Y)\n",
    "    \n",
    "    plt.contourf(X, Y, Z, ncontous, cmap='seismic')\n",
    "    plt.colorbar()\n",
    "    \n",
    "    if points is not None:\n",
    "        plt.plot(points[0], points[1], marker='x', color='r')"
   ]
  },
  {
   "cell_type": "markdown",
   "metadata": {},
   "source": [
    "# Четырехслойная модель с газоосадками"
   ]
  },
  {
   "cell_type": "code",
   "execution_count": 3,
   "metadata": {
    "pycharm": {
     "is_executing": false
    }
   },
   "outputs": [],
   "source": [
    "h = [\n",
    "    67.5,\n",
    "    22.5,\n",
    "    20\n",
    "]"
   ]
  },
  {
   "cell_type": "code",
   "execution_count": 4,
   "metadata": {
    "pycharm": {
     "is_executing": false
    }
   },
   "outputs": [],
   "source": [
    "# vp метан = 1548\n",
    "# плотность метана 0.656 кг/м3\n",
    "rho = 0.656\n",
    "vp = 1548\n",
    "K = rho * (vp*vp )"
   ]
  },
  {
   "cell_type": "code",
   "execution_count": 5,
   "metadata": {
    "pycharm": {
     "is_executing": false
    }
   },
   "outputs": [
    {
     "data": {
      "text/plain": [
       "1571975.424"
      ]
     },
     "execution_count": 5,
     "metadata": {},
     "output_type": "execute_result"
    }
   ],
   "source": [
    "K"
   ]
  },
  {
   "cell_type": "code",
   "execution_count": 24,
   "metadata": {
    "pycharm": {
     "is_executing": false
    }
   },
   "outputs": [],
   "source": [
    "layer_1_seism = {\n",
    "    'vp': 1500,\n",
    "    'vs': 0,\n",
    "    'rho': 1000\n",
    "}\n",
    "\n",
    "layer_2_rp = {\n",
    "    \"name\": \"unconsolidated\",\n",
    "    \"components\": {\n",
    "                    \"Ksi\": {\n",
    "                      \"value\": 36.9,\n",
    "                      \"optimize\": False,\n",
    "                      \"min\": 35,\n",
    "                      \"max\": 40\n",
    "                    },\n",
    "\t\t\t\t\t\"Gsi\": {\n",
    "                      \"value\": 31,\n",
    "                      \"optimize\": False,\n",
    "                      \"min\": 30,\n",
    "                      \"max\": 35\n",
    "                    },\n",
    "\t\t\t\t\t\"rhosi\": {\n",
    "                      \"value\": 2.2,\n",
    "                      \"optimize\": False,\n",
    "                      \"min\": 2,\n",
    "                      \"max\": 2.5\n",
    "                    },\n",
    "                    \"Ksh\": {\n",
    "                      \"value\": 9.2,\n",
    "                      \"optimize\": False,\n",
    "                      \"min\": 7,\n",
    "                      \"max\": 14\n",
    "                    },\n",
    "\t\t\t\t\t\"Gsh\": {\n",
    "                      \"value\": 0.4,\n",
    "                      \"optimize\": False,\n",
    "                      \"min\": 0.001,\n",
    "                      \"max\": 0.8\n",
    "                    },\n",
    "\t\t\t\t\t\"rhosh\": {\n",
    "                      \"value\": 2.43,\n",
    "                      \"optimize\": False,\n",
    "                      \"min\": 2,\n",
    "                      \"max\": 2.5\n",
    "                    },\n",
    "                    \"Kincl\": {\n",
    "                      \"value\": 36.9,\n",
    "                      \"optimize\": False,\n",
    "                      \"min\": 35,\n",
    "                      \"max\": 40\n",
    "                    },\n",
    "                    \"Gincl\": {\n",
    "                      \"value\": 31,\n",
    "                      \"optimize\": False,\n",
    "                      \"min\": 30,\n",
    "                      \"max\": 35\n",
    "                    },\n",
    "                    \"rhoincl\": {\n",
    "                      \"value\": 2.2,\n",
    "                      \"optimize\": False,\n",
    "                      \"min\": 2,\n",
    "                      \"max\": 2.5\n",
    "                    },\n",
    "                    \"Kfl\": {\n",
    "                      \"value\": 1.57,\n",
    "                      \"optimize\": False,\n",
    "                      \"min\": 0.5,\n",
    "                      \"max\": 5\n",
    "                    },\n",
    "                    \"rhofl\": {\n",
    "                      \"value\": 0.656*1e-3,\n",
    "                      \"optimize\": False,\n",
    "                      \"min\": 0.5,\n",
    "                      \"max\": 0.99\n",
    "                    },\n",
    "                    \"Vsi\": {\n",
    "                      \"value\": 0.01,\n",
    "                      \"optimize\": False,\n",
    "                      \"min\": 0.5,\n",
    "                      \"max\": 0.99\n",
    "                    },\n",
    "                    \"Vsh\": {\n",
    "                      \"value\": 0.25,\n",
    "                      \"optimize\": False,\n",
    "                      \"min\": 0.5,\n",
    "                      \"max\": 0.99\n",
    "                    },\n",
    "                    \"Vincl\": {\n",
    "                      \"value\": 0,\n",
    "                      \"optimize\": False,\n",
    "                      \"min\": 0.5,\n",
    "                      \"max\": 0.99\n",
    "                    },\n",
    "                    \"phi\": {\n",
    "                      \"value\": 0.74,\n",
    "                      \"optimize\": True,\n",
    "                      \"min\": 0.5,\n",
    "                      \"max\": 0.99\n",
    "                    }\n",
    "                  }\n",
    "}\n",
    "\n",
    "layer_3_seism = {\n",
    "    'vp': 2000,\n",
    "    'vs': 1000,\n",
    "    'rho': 2070\n",
    "}\n",
    "\n",
    "# посмотреть в дипломе Машки!\n",
    "layer_4_seism = {\n",
    "    'vp': 6600,\n",
    "    'vs': 3600,\n",
    "    'rho': 2600,\n",
    "}"
   ]
  },
  {
   "cell_type": "code",
   "execution_count": 25,
   "metadata": {
    "pycharm": {
     "is_executing": false
    }
   },
   "outputs": [],
   "source": [
    "layer_1 = Layer1D(h[0],\n",
    "                  rp_attribute=None,\n",
    "                  seism_attribute=SeismicAttribute(**layer_1_seism),\n",
    "                  opt=LayerOPT.NO)\n",
    "layer_2 = Layer1D(h[1],\n",
    "                  rp_attribute=RockPhysicsAttribute(layer_2_rp['components'], layer_2_rp['name']),\n",
    "                  seism_attribute=None,\n",
    "                  opt=LayerOPT.RP)\n",
    "layer_3 = Layer1D(h[2],\n",
    "                  rp_attribute=None,\n",
    "                  seism_attribute=SeismicAttribute(**layer_3_seism),\n",
    "                  opt=LayerOPT.NO)\n",
    "layer_4 = Layer1D(-1,\n",
    "                  rp_attribute=None,\n",
    "                  seism_attribute=SeismicAttribute(**layer_4_seism),\n",
    "                  opt=LayerOPT.NO)"
   ]
  },
  {
   "cell_type": "code",
   "execution_count": 26,
   "metadata": {
    "pycharm": {
     "is_executing": false
    }
   },
   "outputs": [],
   "source": [
    "model = SeismicModel1D([layer_1, layer_2, layer_3, layer_4])"
   ]
  },
  {
   "cell_type": "code",
   "execution_count": 27,
   "metadata": {},
   "outputs": [],
   "source": [
    "# Многоканальная коса"
   ]
  },
  {
   "cell_type": "code",
   "execution_count": 28,
   "metadata": {
    "pycharm": {
     "is_executing": false
    }
   },
   "outputs": [],
   "source": [
    "dx = 5\n",
    "nx = 100\n",
    "x_rec = [i * dx for i in range(1, nx+1)]\n",
    "wave_types = [OWT.PdPu]"
   ]
  },
  {
   "cell_type": "code",
   "execution_count": 29,
   "metadata": {
    "pycharm": {
     "is_executing": true
    }
   },
   "outputs": [
    {
     "name": "stdout",
     "output_type": "stream",
     "text": [
      "Calculating rockphysics model...\n",
      "Rockphysics model calculated!\n",
      "Calculating PdPu-rays...\n",
      "Calculating PdPu-reflections...\n",
      "Calculating p-refractions...\n"
     ]
    },
    {
     "name": "stderr",
     "output_type": "stream",
     "text": [
      "/home/apenkin/workspace/rpsi_proj/rpsi/ForwardModeling/Seismic/Dynamic/ZoeppritzCoeffs.py:46: RuntimeWarning: divide by zero encountered in true_divide\n",
      "  F = (b * np.cos(phi1) / vs1) + (c * np.cos(phi2) / vs2)\n",
      "/home/apenkin/workspace/rpsi_proj/rpsi/ForwardModeling/Seismic/Dynamic/ZoeppritzCoeffs.py:46: RuntimeWarning: invalid value encountered in true_divide\n",
      "  F = (b * np.cos(phi1) / vs1) + (c * np.cos(phi2) / vs2)\n",
      "/home/apenkin/workspace/rpsi_proj/rpsi/ForwardModeling/Seismic/Dynamic/ZoeppritzCoeffs.py:48: RuntimeWarning: divide by zero encountered in true_divide\n",
      "  H = a - d * np.cos(theta2)/vp2 * np.cos(phi1)/vs1\n",
      "/home/apenkin/workspace/rpsi_proj/rpsi/ForwardModeling/Seismic/Dynamic/ZoeppritzCoeffs.py:48: RuntimeWarning: invalid value encountered in true_divide\n",
      "  H = a - d * np.cos(theta2)/vp2 * np.cos(phi1)/vs1\n",
      "/home/apenkin/workspace/rpsi_proj/rpsi/ForwardModeling/Seismic/Dynamic/ZoeppritzCoeffs.py:50: RuntimeWarning: invalid value encountered in multiply\n",
      "  D = E*F + G*H*p**2\n",
      "/home/apenkin/workspace/rpsi_proj/rpsi/ForwardModeling/Seismic/Dynamic/ZoeppritzCoeffs.py:52: RuntimeWarning: invalid value encountered in multiply\n",
      "  rpp = (1/D) * (F*(b*(np.cos(theta1)/vp1) - c*(np.cos(theta2)/vp2)) \\\n",
      "/home/apenkin/workspace/rpsi_proj/rpsi/ForwardModeling/Seismic/Dynamic/ZoeppritzCoeffs.py:53: RuntimeWarning: invalid value encountered in multiply\n",
      "  - H*p**2 * (a + d*(np.cos(theta1)/vp1)*(np.cos(phi2)/vs2)))\n",
      "/home/apenkin/workspace/rpsi_proj/rpsi/ForwardModeling/Seismic/Dynamic/ZoeppritzCoeffs.py:103: RuntimeWarning: divide by zero encountered in true_divide\n",
      "  F = (b * np.cos(phi1) / vs1) + (c * np.cos(phi2) / vs2)\n",
      "/home/apenkin/workspace/rpsi_proj/rpsi/ForwardModeling/Seismic/Dynamic/ZoeppritzCoeffs.py:103: RuntimeWarning: invalid value encountered in true_divide\n",
      "  F = (b * np.cos(phi1) / vs1) + (c * np.cos(phi2) / vs2)\n",
      "/home/apenkin/workspace/rpsi_proj/rpsi/ForwardModeling/Seismic/Dynamic/ZoeppritzCoeffs.py:105: RuntimeWarning: divide by zero encountered in true_divide\n",
      "  H = a - d * np.cos(theta2) / vp2 * np.cos(phi1) / vs1\n",
      "/home/apenkin/workspace/rpsi_proj/rpsi/ForwardModeling/Seismic/Dynamic/ZoeppritzCoeffs.py:105: RuntimeWarning: invalid value encountered in true_divide\n",
      "  H = a - d * np.cos(theta2) / vp2 * np.cos(phi1) / vs1\n",
      "/home/apenkin/workspace/rpsi_proj/rpsi/ForwardModeling/Seismic/Dynamic/ZoeppritzCoeffs.py:107: RuntimeWarning: invalid value encountered in multiply\n",
      "  D = E * F + G * H * p ** 2\n",
      "/home/apenkin/workspace/rpsi_proj/rpsi/ForwardModeling/Seismic/Dynamic/ZoeppritzCoeffs.py:109: RuntimeWarning: invalid value encountered in multiply\n",
      "  rpp = (2 * rho1 * (np.cos(theta1) / vp1) * F * vp1) / (vp2 * D)\n",
      "/home/apenkin/workspace/rpsi_proj/rpsi/ForwardModeling/Seismic/Dynamic/ZoeppritzCoeffs.py:159: RuntimeWarning: divide by zero encountered in true_divide\n",
      "  F = (b * np.cos(phi1) / vs1) + (c * np.cos(phi2) / vs2)\n",
      "/home/apenkin/workspace/rpsi_proj/rpsi/ForwardModeling/Seismic/Dynamic/ZoeppritzCoeffs.py:159: RuntimeWarning: invalid value encountered in true_divide\n",
      "  F = (b * np.cos(phi1) / vs1) + (c * np.cos(phi2) / vs2)\n",
      "/home/apenkin/workspace/rpsi_proj/rpsi/ForwardModeling/Seismic/Dynamic/ZoeppritzCoeffs.py:161: RuntimeWarning: divide by zero encountered in true_divide\n",
      "  H = a - d * np.cos(theta2) / vp2 * np.cos(phi1) / vs1\n",
      "/home/apenkin/workspace/rpsi_proj/rpsi/ForwardModeling/Seismic/Dynamic/ZoeppritzCoeffs.py:161: RuntimeWarning: invalid value encountered in true_divide\n",
      "  H = a - d * np.cos(theta2) / vp2 * np.cos(phi1) / vs1\n",
      "/home/apenkin/workspace/rpsi_proj/rpsi/ForwardModeling/Seismic/Dynamic/ZoeppritzCoeffs.py:163: RuntimeWarning: invalid value encountered in multiply\n",
      "  D = E * F + G * H * p ** 2\n",
      "/home/apenkin/workspace/rpsi_proj/rpsi/ForwardModeling/Seismic/Dynamic/ZoeppritzCoeffs.py:165: RuntimeWarning: invalid value encountered in multiply\n",
      "  rpp = (2 * rho2 * (np.cos(theta2) / vp2) * F * vp2) / (vp1* D)\n"
     ]
    }
   ],
   "source": [
    "observe, test_seismic = \\\n",
    "    forward_with_trace_calcing(model, x_rec,\n",
    "                               dt=3e-03, trace_len=1500, wavetypes=wave_types, display_stat=True,\n",
    "        visualize_res=False)"
   ]
  },
  {
   "cell_type": "code",
   "execution_count": 30,
   "metadata": {},
   "outputs": [
    {
     "data": {
      "text/plain": [
       "{'vp': 1500, 'vs': 0, 'rho': 1000}"
      ]
     },
     "execution_count": 30,
     "metadata": {},
     "output_type": "execute_result"
    }
   ],
   "source": [
    "model.layers[0].seism_attribute.vals_dict"
   ]
  },
  {
   "cell_type": "code",
   "execution_count": 31,
   "metadata": {},
   "outputs": [
    {
     "data": {
      "text/plain": [
       "{'vp': 1803.2983887927794, 'vs': 95.47079063137284, 'rho': 629.98544}"
      ]
     },
     "execution_count": 31,
     "metadata": {},
     "output_type": "execute_result"
    }
   ],
   "source": [
    "model.layers[1].seism_attribute.vals_dict"
   ]
  },
  {
   "cell_type": "code",
   "execution_count": null,
   "metadata": {},
   "outputs": [],
   "source": []
  }
 ],
 "metadata": {
  "kernelspec": {
   "display_name": "rpsi",
   "language": "python",
   "name": "rpsi"
  },
  "language_info": {
   "codemirror_mode": {
    "name": "ipython",
    "version": 3
   },
   "file_extension": ".py",
   "mimetype": "text/x-python",
   "name": "python",
   "nbconvert_exporter": "python",
   "pygments_lexer": "ipython3",
   "version": "3.7.3"
  }
 },
 "nbformat": 4,
 "nbformat_minor": 2
}
