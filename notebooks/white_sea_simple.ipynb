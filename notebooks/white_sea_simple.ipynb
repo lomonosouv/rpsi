{
 "cells": [
  {
   "cell_type": "code",
   "execution_count": 31,
   "metadata": {
    "pycharm": {
     "is_executing": false
    }
   },
   "outputs": [],
   "source": [
    "import sys\n",
    "sys.path.append('../')\n",
    "\n",
    "import numpy as np\n",
    "\n",
    "from fmodeling.ForwardProcessing1D import forward_with_trace_calcing\n",
    "from inversion.Strategies.SeismDiffInversion1D import inverse\n",
    "from inversion.optimizators.optimizations import LBFGSBOptimization, DifferentialEvolution, TrustKrylov, TrustConstr, \\\n",
    "    ConjugateGradient, AxOptimizer\n",
    "from Tests.test_ForwardProcessing1D import get_model_2layered, get_model_3layered\n",
    "from Data.geol_models import get_model_3layered_fluid_rp_dicts\n",
    "from objects.Data.WavePlaceholder import OWT, WaveDataPlaceholder\n",
    "from objects.Models.Models import SeismicModel1D\n",
    "from objects.Attributes.RockPhysics.RockPhysicsAttribute import RockPhysicsAttribute\n",
    "from objects.Attributes.Seismic.SeismicAttribute import SeismicAttribute\n",
    "from objects.Models.Layer1D import Layer1D, LayerOPT\n",
    "import time\n",
    "\n",
    "from matplotlib import pyplot as plt\n",
    "from inversion.Strategies.SeismDiffInversion1D import func_to_optimize\n"
   ]
  },
  {
   "cell_type": "code",
   "execution_count": 32,
   "metadata": {
    "pycharm": {
     "is_executing": false
    }
   },
   "outputs": [],
   "source": [
    "from Visualization.Seismic import visualize_seismogram\n",
    "from scipy.optimize import approx_fprime\n"
   ]
  },
  {
   "cell_type": "code",
   "execution_count": 33,
   "metadata": {
    "pycharm": {
     "is_executing": false
    }
   },
   "outputs": [],
   "source": [
    "def plot_1D_err(forward_params, nvals, min_max=None, dot=False, vline_x=None):\n",
    "    \n",
    "    if min_max is None:\n",
    "        min_val = forward_params['model'].get_optimization_option(\"min\", vectorize=True)\n",
    "        max_val = forward_params['model'].get_optimization_option(\"max\", vectorize=True)\n",
    "        \n",
    "    else:\n",
    "        min_val = np.array([min_max[0]])\n",
    "        max_val = np.array([min_max[1]])\n",
    "    \n",
    "    dval = (max_val - min_val) / nvals\n",
    "\n",
    "    val_x = [min_val + dval*i for i in range(nvals+1)]\n",
    "    errs = []\n",
    "    for val in val_x:\n",
    "        errs.append(func_to_optimize(val, placeholders, forward_params, helper=None, show_tol=False))\n",
    "        \n",
    "    plt.plot(val_x, errs)\n",
    "    if dot:\n",
    "        plt.plot(val_x, errs, 'o')\n",
    "        \n",
    "    if vline_x is not None:\n",
    "        plt.vlines(vline_x, ymin=min(errs), ymax=max(errs), colors='r')\n",
    "        \n",
    "    plt.show()\n",
    "\n",
    "def optimization_func_2D(forward_params, x, y):\n",
    "    indexes_1 = np.arange(x.shape[0])\n",
    "    indexes_2 = np.arange(x.shape[1])\n",
    "    \n",
    "    Z = np.zeros((x.shape[0], x.shape[1]))\n",
    "    \n",
    "    for ind1 in indexes_1:\n",
    "        for ind2 in indexes_2:\n",
    "            Z[ind1, ind2] = func_to_optimize([x[ind1, ind2], y[ind1, ind2]], placeholders, forward_params, helper=None, show_tol=False)\n",
    "        \n",
    "    return Z\n",
    "\n",
    "def plot_2D_err(forward_params, nvals, ncontous=10, points=None):\n",
    "    min_val = forward_params['model'].get_optimization_option(\"min\", vectorize=True)\n",
    "    max_val = forward_params['model'].get_optimization_option(\"max\", vectorize=True)\n",
    "    \n",
    "    dval = (max_val - min_val) / nvals\n",
    "\n",
    "    val_1_x = [min_val[0] + dval[0]*i for i in range(nvals[0]+1)]\n",
    "    val_2_x = [min_val[1] + dval[1]*i for i in range(nvals[1]+1)]\n",
    "\n",
    "    X, Y = np.meshgrid(val_1_x, val_2_x)\n",
    "\n",
    "    Z = optimization_func_2D(forward_params, X, Y)\n",
    "    \n",
    "    plt.contourf(X, Y, Z, ncontous, cmap='seismic')\n",
    "    plt.colorbar()\n",
    "    \n",
    "    if points is not None:\n",
    "        plt.plot(points[0], points[1], marker='o', color='green', markersize=5)"
   ]
  },
  {
   "cell_type": "markdown",
   "metadata": {},
   "source": [
    "# Четырехслойная модель с газоосадками"
   ]
  },
  {
   "cell_type": "code",
   "execution_count": 34,
   "metadata": {
    "pycharm": {
     "is_executing": false
    }
   },
   "outputs": [],
   "source": [
    "h = [\n",
    "    67.5,\n",
    "    22.5,\n",
    "    20\n",
    "]"
   ]
  },
  {
   "cell_type": "code",
   "execution_count": 35,
   "metadata": {
    "pycharm": {
     "is_executing": false
    }
   },
   "outputs": [],
   "source": [
    "layer_1_seism = {\n",
    "    'vp': 1500,\n",
    "    'vs': 700,\n",
    "    'rho': 1000\n",
    "}\n",
    "\n",
    "layer_2_rp = {\n",
    "    \"name\": \"unconsolidated\",\n",
    "    \"components\": {\n",
    "                    \"Ksi\": {\n",
    "                      \"value\": 38,\n",
    "                      \"optimize\": True,\n",
    "                      \"min\": 5,\n",
    "                      \"max\": 60\n",
    "                    },\n",
    "\t\t\t\t\t\"Gsi\": {\n",
    "                      \"value\": 44,\n",
    "                      \"optimize\": True,\n",
    "                      \"min\": 30,\n",
    "                      \"max\": 50\n",
    "                    },\n",
    "\t\t\t\t\t\"rhosi\": {\n",
    "                      \"value\": 2.2,\n",
    "                      \"optimize\": True,\n",
    "                      \"min\": 2,\n",
    "                      \"max\": 2.5\n",
    "                    },\n",
    "                    \"Ksh\": {\n",
    "                      \"value\": 21.5,\n",
    "                      \"optimize\": True,\n",
    "                      \"min\": 10,\n",
    "                      \"max\": 30\n",
    "                    },\n",
    "\t\t\t\t\t\"Gsh\": {\n",
    "                      \"value\": 7,\n",
    "                      \"optimize\": True,\n",
    "                      \"min\": 1,\n",
    "                      \"max\": 20\n",
    "                    },\n",
    "\t\t\t\t\t\"rhosh\": {\n",
    "                      \"value\": 2.43,\n",
    "                      \"optimize\": True,\n",
    "                      \"min\": 2,\n",
    "                      \"max\": 2.5\n",
    "                    },\n",
    "                    \"Kincl\": {\n",
    "                      \"value\": 36.9,\n",
    "                      \"optimize\": False,\n",
    "                      \"min\": 35,\n",
    "                      \"max\": 40\n",
    "                    },\n",
    "                    \"Gincl\": {\n",
    "                      \"value\": 31,\n",
    "                      \"optimize\": False,\n",
    "                      \"min\": 30,\n",
    "                      \"max\": 35\n",
    "                    },\n",
    "                    \"rhoincl\": {\n",
    "                      \"value\": 2.2,\n",
    "                      \"optimize\": False,\n",
    "                      \"min\": 2,\n",
    "                      \"max\": 2.5\n",
    "                    },\n",
    "                    \"Kfl\": {\n",
    "                      \"value\": 2.29,\n",
    "                      \"optimize\": False,\n",
    "                      \"min\": 0.5,\n",
    "                      \"max\": 5\n",
    "                    },\n",
    "                    \"rhofl\": {\n",
    "                      \"value\": 1,\n",
    "                      \"optimize\": False,\n",
    "                      \"min\": 0.5,\n",
    "                      \"max\": 1.5\n",
    "                    },\n",
    "#                     \"Vsi\": {\n",
    "#                       \"value\": 0.01,\n",
    "#                       \"optimize\": False,\n",
    "#                       \"min\": 0.5,\n",
    "#                       \"max\": 0.99\n",
    "#                     },\n",
    "                    \"Vsh\": {\n",
    "                      \"value\": 0.7,\n",
    "                      \"optimize\": True,\n",
    "                      \"min\": 0.5,\n",
    "                      \"max\": 0.99\n",
    "                    },\n",
    "                    \"Vincl\": {\n",
    "                      \"value\": 0,\n",
    "                      \"optimize\": False,\n",
    "                      \"min\": 0.5,\n",
    "                      \"max\": 0.99\n",
    "                    },\n",
    "                    \"phi\": {\n",
    "                      \"value\": 0.74,\n",
    "                      \"optimize\": True,\n",
    "                      \"min\": 0.5,\n",
    "                      \"max\": 0.99\n",
    "                    }\n",
    "                  }\n",
    "}\n",
    "\n",
    "layer_3_seism = {\n",
    "    'vp': 2000,\n",
    "    'vs': 1000,\n",
    "    'rho': 2070\n",
    "}\n",
    "\n",
    "# посмотреть в дипломе Машки!\n",
    "layer_4_seism = {\n",
    "    'vp': 6600,\n",
    "    'vs': 3600,\n",
    "    'rho': 2600,\n",
    "}"
   ]
  },
  {
   "cell_type": "code",
   "execution_count": 36,
   "metadata": {
    "pycharm": {
     "is_executing": false
    }
   },
   "outputs": [],
   "source": [
    "optimization_list = [\n",
    "    \"Ksi\",\n",
    "#     \"Gsi\",\n",
    "#     \"rhosi\",\n",
    "    \"Ksh\",\n",
    "#     \"Gsh\",\n",
    "#     \"rhosh\",\n",
    "#     \"Kfl\",\n",
    "#     \"rhofl\",\n",
    "#     \"Vsh\",\n",
    "#     \"Vincl\",\n",
    "#     \"phi\"\n",
    "]\n",
    "\n",
    "for key in layer_2_rp['components'].keys():\n",
    "    if key in optimization_list:\n",
    "        layer_2_rp['components'][key][\"optimize\"] = True\n",
    "        \n",
    "    else:\n",
    "        layer_2_rp['components'][key][\"optimize\"] = False"
   ]
  },
  {
   "cell_type": "code",
   "execution_count": 37,
   "metadata": {
    "pycharm": {
     "is_executing": false
    }
   },
   "outputs": [],
   "source": [
    "layer_1 = Layer1D(h[0],\n",
    "                  rp_attribute=None,\n",
    "                  seism_attribute=SeismicAttribute(**layer_1_seism),\n",
    "                  opt=LayerOPT.NO)\n",
    "layer_2 = Layer1D(h[1],\n",
    "                  rp_attribute=RockPhysicsAttribute(layer_2_rp['components'], layer_2_rp['name']),\n",
    "                  seism_attribute=None,\n",
    "                  opt=LayerOPT.RP)\n",
    "layer_3 = Layer1D(h[2],\n",
    "                  rp_attribute=None,\n",
    "                  seism_attribute=SeismicAttribute(**layer_3_seism),\n",
    "                  opt=LayerOPT.NO)\n",
    "layer_4 = Layer1D(-1,\n",
    "                  rp_attribute=None,\n",
    "                  seism_attribute=SeismicAttribute(**layer_4_seism),\n",
    "                  opt=LayerOPT.NO)"
   ]
  },
  {
   "cell_type": "code",
   "execution_count": 38,
   "metadata": {
    "pycharm": {
     "is_executing": false
    }
   },
   "outputs": [],
   "source": [
    "model = SeismicModel1D([layer_1, layer_2, layer_3, layer_4])"
   ]
  },
  {
   "cell_type": "code",
   "execution_count": 39,
   "metadata": {
    "pycharm": {
     "is_executing": false
    }
   },
   "outputs": [],
   "source": [
    "# Многоканальная коса"
   ]
  },
  {
   "cell_type": "code",
   "execution_count": 40,
   "metadata": {
    "pycharm": {
     "is_executing": false
    }
   },
   "outputs": [],
   "source": [
    "dx = 2\n",
    "nx = 100\n",
    "x_rec = [i * dx for i in range(1, nx+1)]\n",
    "wave_types = [OWT.PdPu_water]\n",
    "dt = 1e-04\n",
    "tracelen = 2000"
   ]
  },
  {
   "cell_type": "markdown",
   "metadata": {},
   "source": [
    "# Forward modeling"
   ]
  },
  {
   "cell_type": "code",
   "execution_count": 41,
   "metadata": {
    "pycharm": {
     "is_executing": false
    },
    "scrolled": true
   },
   "outputs": [
    {
     "name": "stdout",
     "text": [
      "Calculating rockphysics model...\nRockphysics model calculated!\nCalculating PdPu_water-rays...\n"
     ],
     "output_type": "stream"
    },
    {
     "data": {
      "text/plain": "<Figure size 432x288 with 1 Axes>",
      "image/png": "[encoded data removed]"
     },
     "metadata": {
      "needs_background": "light"
     },
     "output_type": "display_data"
    }
   ],
   "source": [
    "observe, test_seismic = \\\n",
    "    forward_with_trace_calcing(model, x_rec,\n",
    "                               dt=dt, trace_len=tracelen, wavetypes=wave_types, display_stat=True,\n",
    "        visualize_res=False, visualize_seismograms=True)"
   ]
  },
  {
   "cell_type": "code",
   "execution_count": 42,
   "metadata": {
    "pycharm": {
     "is_executing": false
    }
   },
   "outputs": [],
   "source": [
    "true_vals = model.get_optimization_option('val')"
   ]
  },
  {
   "cell_type": "code",
   "execution_count": 43,
   "metadata": {
    "pycharm": {
     "is_executing": false
    }
   },
   "outputs": [
    {
     "data": {
      "text/plain": "OrderedDict([(1, {'Ksi': 38, 'Ksh': 21.5})])"
     },
     "metadata": {},
     "output_type": "execute_result",
     "execution_count": 43
    }
   ],
   "source": [
    "true_vals"
   ]
  },
  {
   "cell_type": "code",
   "execution_count": 44,
   "metadata": {
    "pycharm": {
     "is_executing": false
    }
   },
   "outputs": [
    {
     "data": {
      "text/plain": "{'vp': 1500, 'vs': 700, 'rho': 1000}"
     },
     "metadata": {},
     "output_type": "execute_result",
     "execution_count": 44
    }
   ],
   "source": [
    "model.layers[0].seism_attribute.vals_dict"
   ]
  },
  {
   "cell_type": "code",
   "execution_count": 45,
   "metadata": {
    "pycharm": {
     "is_executing": false
    }
   },
   "outputs": [
    {
     "data": {
      "text/plain": "{'vp': 1534.1089459244965, 'vs': 200.08822703140874, 'rho': 1353.8600000000001}"
     },
     "metadata": {},
     "output_type": "execute_result",
     "execution_count": 45
    }
   ],
   "source": [
    "model.layers[1].seism_attribute.vals_dict"
   ]
  },
  {
   "cell_type": "markdown",
   "metadata": {},
   "source": [
    "# Inversion"
   ]
  },
  {
   "cell_type": "code",
   "execution_count": 46,
   "metadata": {
    "pycharm": {
     "is_executing": false
    }
   },
   "outputs": [],
   "source": [
    "forward_params = {\n",
    "    \"model\": model,\n",
    "    \"x_rec\": x_rec,\n",
    "    \"dt\": dt,\n",
    "    \"trace_len\": tracelen,\n",
    "    \"wavetypes\": wave_types,\n",
    "    \"display_stat\": False,\n",
    "    \"visualize_res\": False\n",
    "}"
   ]
  },
  {
   "cell_type": "markdown",
   "metadata": {},
   "source": [
    "## Create start indexes"
   ]
  },
  {
   "cell_type": "code",
   "execution_count": 47,
   "metadata": {
    "pycharm": {
     "is_executing": false
    }
   },
   "outputs": [],
   "source": [
    "def formula(v, h, x):\n",
    "    return np.sqrt(x**2 + 4*h*h) / v"
   ]
  },
  {
   "cell_type": "code",
   "execution_count": 48,
   "metadata": {
    "pycharm": {
     "is_executing": false
    }
   },
   "outputs": [],
   "source": [
    "start_times = formula(1500, 60, np.array(x_rec))\n",
    "start_indexes = (start_times / dt).astype(int)"
   ]
  },
  {
   "cell_type": "code",
   "execution_count": 49,
   "metadata": {
    "scrolled": true,
    "pycharm": {
     "is_executing": false
    }
   },
   "outputs": [
    {
     "data": {
      "text/plain": "<Figure size 864x576 with 1 Axes>",
      "image/png": "[encoded data removed]"
     },
     "metadata": {
      "needs_background": "light"
     },
     "output_type": "display_data"
    }
   ],
   "source": [
    "fig, ax = plt.subplots(figsize=(12,8))\n",
    "\n",
    "visualize_seismogram(fig, ax, test_seismic[OWT.PdPu_water]['seismogram'], wiggles=False)\n",
    "ax.plot(x_rec, start_times)\n",
    "plt.show()"
   ]
  },
  {
   "cell_type": "code",
   "execution_count": 50,
   "metadata": {
    "pycharm": {
     "is_executing": false
    }
   },
   "outputs": [],
   "source": [
    "placeholders = {}\n",
    "for wt in wave_types:\n",
    "    placeholders[wt] = WaveDataPlaceholder(\n",
    "        wt,\n",
    "        test_seismic[wt][\"rays\"],\n",
    "        test_seismic[wt][\"seismogram\"],\n",
    "        start_indexes=start_indexes\n",
    "    )"
   ]
  },
  {
   "cell_type": "markdown",
   "metadata": {},
   "source": [
    "## Create optimizers"
   ]
  },
  {
   "cell_type": "code",
   "execution_count": 51,
   "metadata": {
    "pycharm": {
     "is_executing": false
    }
   },
   "outputs": [],
   "source": [
    "optimizers_de = [\n",
    "    DifferentialEvolution(\n",
    "          popsize= 5,\n",
    "          maxiter= 50000,\n",
    "          init= \"latinhypercube\",\n",
    "          strategy= \"best1bin\",\n",
    "          disp= False,\n",
    "          polish= False,\n",
    "          tol= 0.00001,\n",
    "          mutation= 1.5,\n",
    "          recombination= 0.6,\n",
    "          workers= 8\n",
    "    )\n",
    "]"
   ]
  },
  {
   "cell_type": "code",
   "execution_count": 52,
   "metadata": {
    "pycharm": {
     "is_executing": false
    }
   },
   "outputs": [],
   "source": [
    "optimizers_lbfgs = [\n",
    "    LBFGSBOptimization(\n",
    "        maxiter=15000,\n",
    "        maxfun=15000,\n",
    "        factr=100,\n",
    "        maxls=50,\n",
    "        pgtol=1e-7,\n",
    "        epsilon=1e-7,\n",
    "        iprint=1,\n",
    "        disp=1\n",
    "    )\n",
    "]"
   ]
  },
  {
   "cell_type": "code",
   "execution_count": 53,
   "metadata": {
    "pycharm": {
     "is_executing": false
    }
   },
   "outputs": [],
   "source": [
    "optimizers_cg = [\n",
    "    ConjugateGradient(\n",
    "    )\n",
    "]"
   ]
  },
  {
   "cell_type": "code",
   "execution_count": 54,
   "metadata": {
    "pycharm": {
     "is_executing": false
    }
   },
   "outputs": [],
   "source": [
    "optimizers_ax = [\n",
    "    AxOptimizer(num_evals=50, log_scale=False)\n",
    "]"
   ]
  },
  {
   "cell_type": "code",
   "execution_count": 55,
   "metadata": {
    "pycharm": {
     "is_executing": false
    }
   },
   "outputs": [
    {
     "name": "stdout",
     "text": [
      "[ 5 10] [60 30]\n"
     ],
     "output_type": "stream"
    }
   ],
   "source": [
    "min_vals = forward_params['model'].get_optimization_option('min', vectorize=True)\n",
    "max_vals = forward_params['model'].get_optimization_option('max', vectorize=True)\n",
    "start_vals = np.random.uniform(min_vals, max_vals)\n",
    "\n",
    "print(min_vals, max_vals)"
   ]
  },
  {
   "cell_type": "code",
   "execution_count": 56,
   "metadata": {
    "pycharm": {
     "is_executing": false
    }
   },
   "outputs": [
    {
     "data": {
      "text/plain": "array([ 8.85680646, 26.31964391])"
     },
     "metadata": {},
     "output_type": "execute_result",
     "execution_count": 56
    }
   ],
   "source": [
    "start_vals"
   ]
  },
  {
   "cell_type": "code",
   "execution_count": 57,
   "metadata": {
    "pycharm": {
     "is_executing": false
    }
   },
   "outputs": [],
   "source": [
    "start_vals = [50, 27.5]"
   ]
  },
  {
   "cell_type": "code",
   "execution_count": 58,
   "metadata": {
    "pycharm": {
     "is_executing": false
    }
   },
   "outputs": [
    {
     "data": {
      "text/plain": "inf"
     },
     "metadata": {},
     "output_type": "execute_result",
     "execution_count": 58
    }
   ],
   "source": [
    "forward_params['model'].set_optimization_option(start_vals)\n",
    "\n",
    "func_to_optimize(forward_params['model'].get_optimization_option('val', vectorize=True), placeholders, forward_params, helper=None, show_tol=False)"
   ]
  },
  {
   "cell_type": "markdown",
   "metadata": {},
   "source": [
    "## Check sensitivity"
   ]
  },
  {
   "cell_type": "code",
   "execution_count": 59,
   "metadata": {
    "pycharm": {
     "is_executing": false
    }
   },
   "outputs": [
    {
     "name": "stderr",
     "text": [
      "/home/apenkin/.local/lib/python3.7/site-packages/scipy/optimize/optimize.py:696: RuntimeWarning: invalid value encountered in double_scalars\n  grad[k] = (f(*((xk + d,) + args)) - f0) / d[k]\n"
     ],
     "output_type": "stream"
    },
    {
     "data": {
      "text/plain": "[array([nan, nan]),\n array([nan, nan]),\n array([nan, nan]),\n array([nan, nan]),\n array([nan, nan])]"
     },
     "metadata": {},
     "output_type": "execute_result",
     "execution_count": 59
    }
   ],
   "source": [
    "def func_(xk):\n",
    "    return func_to_optimize(xk, placeholders, forward_params, helper=None, show_tol=False)\n",
    "\n",
    "def func_min_max(xk):\n",
    "    xk = min_vals + xk * (max_vals - min_vals)\n",
    "    \n",
    "    return func_to_optimize(xk, placeholders, forward_params, helper=None, show_tol=False)\n",
    "\n",
    "nrepeats = 5\n",
    "\n",
    "grads = []\n",
    "\n",
    "for i in range(nrepeats):\n",
    "    start_vals = np.random.uniform(min_vals, max_vals)\n",
    "    start_vals_minmax = (start_vals - min_vals) / (max_vals - min_vals)\n",
    "    \n",
    "#     grads.append(approx_fprime(start_vals, func_, epsilon=[1e-6]*len(start_vals)))\n",
    "    grads.append(approx_fprime(start_vals_minmax, func_min_max, epsilon=[1e-6]*len(start_vals)))\n",
    "    \n",
    "grads"
   ]
  },
  {
   "cell_type": "code",
   "execution_count": 60,
   "metadata": {
    "pycharm": {
     "is_executing": false
    }
   },
   "outputs": [
    {
     "data": {
      "text/plain": "OrderedDict([(1, {'Ksi': 46.12209693198455, 'Ksh': 25.287100339634932})])"
     },
     "metadata": {},
     "output_type": "execute_result",
     "execution_count": 60
    }
   ],
   "source": [
    "model.get_optimization_option('val')"
   ]
  },
  {
   "cell_type": "markdown",
   "metadata": {},
   "source": [
    "# Run inversion process"
   ]
  },
  {
   "cell_type": "code",
   "execution_count": 30,
   "metadata": {
    "pycharm": {
     "is_executing": false
    },
    "scrolled": true
   },
   "outputs": [
    {
     "name": "stdout",
     "text": [
      "inf\n",
      "inf\n",
      "inf\n99999\n99999\n99999\n99999\n99999\n99999\n99999\n99999\n99999\n99999\n99999\n99999\n99999\n99999\n99999\n99999\n99999\n99999\n99999\n99999\n99999\n99999\n99999\n99999\n99999\n99999\n99999\n99999\n99999\n99999\n99999\n99999\n99999\n99999\n99999\n99999\n99999\n99999\n99999\n99999\n99999\n99999\n99999\n99999\n99999\n99999\n99999\n99999\n99999\n99999\n99999\n99999\n99999\n99999\n99999\n99999\n99999\n99999\n99999\n99999\n99999\n99999\n99999\n99999\n99999\n99999\n99999\n99999\n99999\n99999\n99999\n99999\n99999\n99999\n99999\n99999\n99999\n99999\n99999\n99999\n99999\n99999\n99999\n99999\n99999\n99999\n99999\n99999\n99999\n99999\n99999\n99999\n99999\n99999\n99999\n99999\n99999\n99999\n99999\n99999\n99999\n99999\n99999\n99999\n99999\n99999\n99999\n99999\n99999\n99999\n99999\n99999\n99999\n99999\n99999\n99999\n99999\n99999\n99999\n99999\n99999\n99999\n99999\n99999\n99999\n99999\n99999\n99999\n99999\n99999\n99999\n99999\n99999\n99999\n99999\n99999\n99999\n99999\n99999\n99999\n99999\n99999\n99999\n99999\n99999\n99999\n99999\n99999\n99999\n99999\nL-BFGS-B stat:\ngrad: [nan nan]\ntask: b'ABNORMAL_TERMINATION_IN_LNSRCH'\nfuncalls: 153\nnit: 0\nwarnflag: 2\n\n",
      "time: 58.95539093017578\n"
     ],
     "output_type": "stream"
    }
   ],
   "source": [
    "# scale=\"minmax\"\n",
    "scale=None\n",
    "# scale=\"lg\"\n",
    "\n",
    "start_time = time.time()\n",
    "inversed_vals = inverse(optimizers_lbfgs, error=1e-7, placeholders=placeholders, forward_params=forward_params, scale=scale)\n",
    "print(f\"time: {time.time() - start_time}\")"
   ]
  },
  {
   "cell_type": "code",
   "execution_count": 62,
   "metadata": {
    "pycharm": {
     "is_executing": false
    }
   },
   "outputs": [],
   "source": [
    "forward_params['model'].set_optimization_option(inversed_vals)\n",
    "forward_params['model'].scale=None\n",
    "inversed_vals = forward_params['model'].get_optimization_option('val', vectorize=True)"
   ]
  },
  {
   "cell_type": "code",
   "execution_count": 63,
   "metadata": {
    "pycharm": {
     "is_executing": false
    }
   },
   "outputs": [
    {
     "data": {
      "text/plain": "array([46.12209693, 25.28710034])"
     },
     "metadata": {},
     "output_type": "execute_result",
     "execution_count": 63
    }
   ],
   "source": [
    "inversed_vals"
   ]
  },
  {
   "cell_type": "code",
   "execution_count": 64,
   "metadata": {
    "pycharm": {
     "is_executing": false
    }
   },
   "outputs": [],
   "source": [
    "result = {key: {\n",
    "    \"real\": val,\n",
    "    \"inversed\": inv\n",
    "} for key, val, inv in zip(true_vals[1].keys(), true_vals[1].values(), inversed_vals)}"
   ]
  },
  {
   "cell_type": "code",
   "execution_count": 65,
   "metadata": {
    "pycharm": {
     "is_executing": false
    }
   },
   "outputs": [
    {
     "data": {
      "text/plain": "{'Ksi': {'real': 38, 'inversed': 46.12209693198455},\n 'Ksh': {'real': 21.5, 'inversed': 25.287100339634932}}"
     },
     "metadata": {},
     "output_type": "execute_result",
     "execution_count": 65
    }
   ],
   "source": [
    "result"
   ]
  },
  {
   "cell_type": "code",
   "execution_count": 66,
   "metadata": {
    "pycharm": {
     "is_executing": false
    }
   },
   "outputs": [
    {
     "traceback": [
      "\u001b[0;31m---------------------------------------------------------------------------\u001b[0m",
      "\u001b[0;31mNameError\u001b[0m                                 Traceback (most recent call last)",
      "\u001b[0;32m<ipython-input-66-5e58dfe6b7ec>\u001b[0m in \u001b[0;36m<module>\u001b[0;34m\u001b[0m\n\u001b[0;32m----> 1\u001b[0;31m \u001b[0mplot_1D_err\u001b[0m\u001b[0;34m(\u001b[0m\u001b[0mforward_params\u001b[0m\u001b[0;34m,\u001b[0m \u001b[0;36m100\u001b[0m\u001b[0;34m,\u001b[0m \u001b[0mvline_x\u001b[0m\u001b[0;34m=\u001b[0m\u001b[0minversed_model\u001b[0m\u001b[0;34m)\u001b[0m\u001b[0;34m\u001b[0m\u001b[0;34m\u001b[0m\u001b[0m\n\u001b[0m\u001b[1;32m      2\u001b[0m \u001b[0;34m\u001b[0m\u001b[0m\n",
      "\u001b[0;31mNameError\u001b[0m: name 'inversed_model' is not defined"
     ],
     "ename": "NameError",
     "evalue": "name 'inversed_model' is not defined",
     "output_type": "error"
    }
   ],
   "source": [
    "plot_1D_err(forward_params, 100, vline_x=inversed_model)"
   ]
  },
  {
   "cell_type": "code",
   "execution_count": null,
   "metadata": {
    "pycharm": {
     "is_executing": false
    }
   },
   "outputs": [],
   "source": [
    "func_to_optimize(inversed_vals, placeholders, forward_params, helper=None, show_tol=False)"
   ]
  },
  {
   "cell_type": "code",
   "execution_count": null,
   "metadata": {
    "pycharm": {
     "is_executing": false
    }
   },
   "outputs": [],
   "source": [
    "res_observe, res_seismic = forward_with_trace_calcing(forward_params['model'], forward_params['x_rec'], \n",
    "                           dt=forward_params['dt'], \n",
    "                           trace_len=forward_params['trace_len'], \n",
    "                           wavetypes=forward_params['wavetypes'],\n",
    "            display_stat=True, visualize_res=False,\n",
    "                               visualize_seismograms=True\n",
    "            )"
   ]
  },
  {
   "cell_type": "code",
   "execution_count": null,
   "metadata": {
    "pycharm": {
     "is_executing": false
    }
   },
   "outputs": [],
   "source": [
    "diff = test_seismic[OWT.PdPu_water]['seismogram'] - res_seismic[OWT.PdPu_water]['seismogram']\n",
    "fig, ax = plt.subplots(figsize=(12,8))\n",
    "\n",
    "visualize_seismogram(fig, ax, diff, wiggles=False)\n",
    "plt.show()"
   ]
  },
  {
   "cell_type": "code",
   "execution_count": null,
   "metadata": {
    "pycharm": {
     "is_executing": false
    }
   },
   "outputs": [],
   "source": [
    "plot_2D_err(forward_params, [7, 7], 20, points=[[inversed_vals[0]], [inversed_vals[1]]])"
   ]
  },
  {
   "cell_type": "code",
   "execution_count": null,
   "metadata": {
    "pycharm": {
     "is_executing": false
    }
   },
   "outputs": [
    {
     "name": "stderr",
     "text": [
      "ERROR:root:Invalid alias: The name clear can't be aliased because it is another magic command.\n",
      "ERROR:root:Invalid alias: The name more can't be aliased because it is another magic command.\n",
      "ERROR:root:Invalid alias: The name less can't be aliased because it is another magic command.\n",
      "ERROR:root:Invalid alias: The name man can't be aliased because it is another magic command.\n"
     ],
     "output_type": "stream"
    }
   ],
   "source": []
  }
 ],
 "metadata": {
  "kernelspec": {
   "display_name": "rpsi",
   "language": "python",
   "name": "rpsi"
  },
  "language_info": {
   "codemirror_mode": {
    "name": "ipython",
    "version": 3
   },
   "file_extension": ".py",
   "mimetype": "text/x-python",
   "name": "python",
   "nbconvert_exporter": "python",
   "pygments_lexer": "ipython3",
   "version": "3.7.3"
  },
  "pycharm": {
   "stem_cell": {
    "cell_type": "raw",
    "metadata": {
     "collapsed": false
    },
    "source": []
   }
  }
 },
 "nbformat": 4,
 "nbformat_minor": 2
}