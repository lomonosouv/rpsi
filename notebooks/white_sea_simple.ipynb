{
 "cells": [
  {
   "cell_type": "code",
   "execution_count": 2,
   "metadata": {
    "collapsed": true,
    "pycharm": {
     "is_executing": false
    }
   },
   "outputs": [],
   "source": [
    "import sys\n",
    "sys.path.append('../')\n",
    "\n",
    "import numpy as np\n",
    "\n",
    "from ForwardModeling.ForwardProcessing1D import forward_with_trace_calcing\n",
    "from Inversion.Strategies.SeismDiffInversion1D import inverse\n",
    "from Inversion.Optimizators.Optimizations import LBFGSBOptimization, DifferentialEvolution, TrustKrylov, TrustConstr, \\\n",
    "    ConjugateGradient\n",
    "from Tests.test_ForwardProcessing1D import get_model_2layered, get_model_3layered\n",
    "from Data.geol_models import get_model_3layered_fluid_rp_dicts\n",
    "from Objects.Data.WavePlaceholder import OWT, WaveDataPlaceholder\n",
    "from Objects.Models.Models import SeismicModel1D\n",
    "from Objects.Attributes.RockPhysics.RockPhysicsAttribute import RockPhysicsAttribute\n",
    "from Objects.Attributes.Seismic.SeismicAttribute import SeismicAttribute\n",
    "from Objects.Models.Layer1D import Layer1D, LayerOPT\n",
    "import time\n",
    "\n",
    "from matplotlib import pyplot as plt\n",
    "from Inversion.Strategies.SeismDiffInversion1D import func_to_optimize\n"
   ]
  },
  {
   "cell_type": "code",
   "execution_count": 3,
   "metadata": {
    "pycharm": {
     "is_executing": false
    }
   },
   "outputs": [],
   "source": [
    "def plot_1D_err(forward_params, nvals, min_max=None, dot=False, vline_x=None):\n",
    "    \n",
    "    if min_max is None:\n",
    "        min_val = forward_params['model'].get_optimization_option(\"min\", vectorize=True)\n",
    "        max_val = forward_params['model'].get_optimization_option(\"max\", vectorize=True)\n",
    "        \n",
    "    else:\n",
    "        min_val = np.array([min_max[0]])\n",
    "        max_val = np.array([min_max[1]])\n",
    "    \n",
    "    dval = (max_val - min_val) / nvals\n",
    "\n",
    "    val_x = [min_val + dval*i for i in range(nvals+1)]\n",
    "    errs = []\n",
    "    for val in val_x:\n",
    "        errs.append(func_to_optimize(val, placeholders, forward_params, helper=None, show_tol=False))\n",
    "        \n",
    "    plt.plot(val_x, errs)\n",
    "    if dot:\n",
    "        plt.plot(val_x, errs, 'o')\n",
    "        \n",
    "    if vline_x is not None:\n",
    "        plt.vlines(vline_x, ymin=min(errs), ymax=max(errs), colors='r')\n",
    "        \n",
    "    plt.show()\n",
    "\n",
    "def optimization_func_2D(forward_params, x, y):\n",
    "    indexes_1 = np.arange(x.shape[0])\n",
    "    indexes_2 = np.arange(x.shape[1])\n",
    "    \n",
    "    Z = np.zeros((x.shape[0], x.shape[1]))\n",
    "    \n",
    "    for ind1 in indexes_1:\n",
    "        for ind2 in indexes_2:\n",
    "            Z[ind1, ind2] = func_to_optimize([x[ind1, ind2], y[ind1, ind2]], placeholders, forward_params, helper=None, show_tol=False)\n",
    "        \n",
    "    return Z\n",
    "\n",
    "def plot_2D_err(forward_params, nvals, ncontous=10, points=None):\n",
    "    min_val = forward_params['model'].get_optimization_option(\"min\", vectorize=True)\n",
    "    max_val = forward_params['model'].get_optimization_option(\"max\", vectorize=True)\n",
    "    \n",
    "    dval = (max_val - min_val) / nvals\n",
    "\n",
    "    val_1_x = [min_val[0] + dval[0]*i for i in range(nvals[0]+1)]\n",
    "    val_2_x = [min_val[1] + dval[1]*i for i in range(nvals[1]+1)]\n",
    "\n",
    "    X, Y = np.meshgrid(val_1_x, val_2_x)\n",
    "\n",
    "    Z = optimization_func_2D(forward_params, X, Y)\n",
    "    \n",
    "    plt.contourf(X, Y, Z, ncontous, cmap='seismic')\n",
    "    plt.colorbar()\n",
    "    \n",
    "    if points is not None:\n",
    "        plt.plot(points[0], points[1], marker='x', color='r')"
   ]
  },
  {
   "cell_type": "markdown",
   "metadata": {},
   "source": [
    "# Четырехслойная модель с газоосадками"
   ]
  },
  {
   "cell_type": "code",
   "execution_count": 4,
   "metadata": {
    "pycharm": {
     "is_executing": false
    }
   },
   "outputs": [],
   "source": [
    "h = [\n",
    "    67.5,\n",
    "    22.5,\n",
    "    20\n",
    "]"
   ]
  },
  {
   "cell_type": "code",
   "execution_count": 5,
   "metadata": {
    "pycharm": {
     "is_executing": false
    }
   },
   "outputs": [],
   "source": [
    "layer_1_seism = {\n",
    "    'vp': 1500,\n",
    "    'vs': 0,\n",
    "    'rho': 1000\n",
    "}\n",
    "\n",
    "layer_2_rp = {\n",
    "    \"name\": \"xu-payne\",\n",
    "    \"components\": {\n",
    "                    \"Km\": {\n",
    "                      \"value\": 7.3,\n",
    "                      \"optimize\": False,\n",
    "                      \"min\": 5,\n",
    "                      \"max\": 10\n",
    "                    },\n",
    "\t\t\t\t\t\"Gm\": {\n",
    "                      \"value\": 2.71,\n",
    "                      \"optimize\": False,\n",
    "                      \"min\": 0.1,\n",
    "                      \"max\": 5\n",
    "                    },\n",
    "\t\t\t\t\t\"rho_m\": {\n",
    "                      \"value\": 2.71,\n",
    "                      \"optimize\": False,\n",
    "                      \"min\": 2.5,\n",
    "                      \"max\": 3\n",
    "                    },\n",
    "                    \"Vm\": {\n",
    "                      \"value\": 1,\n",
    "                      \"optimize\": False,\n",
    "                      \"min\": 0.7,\n",
    "                      \"max\": 1\n",
    "                    },\n",
    "                    \"Ks\": {\n",
    "                      \"value\": 9.2,\n",
    "                      \"optimize\": False,\n",
    "                      \"min\": 7,\n",
    "                      \"max\": 14\n",
    "                    },\n",
    "\t\t\t\t\t\"Gs\": {\n",
    "                      \"value\": 0.4,\n",
    "                      \"optimize\": False,\n",
    "                      \"min\": 0.001,\n",
    "                      \"max\": 0.8\n",
    "                    },\n",
    "\t\t\t\t\t\"rho_s\": {\n",
    "                      \"value\": 2.43,\n",
    "                      \"optimize\": False,\n",
    "                      \"min\": 2,\n",
    "                      \"max\": 3\n",
    "                    },\n",
    "                    \"phi_s\": {\n",
    "                      \"value\": 0.19,\n",
    "                      \"optimize\": False,\n",
    "                      \"min\": 0.05,\n",
    "                      \"max\": 0.3\n",
    "                    },\n",
    "                    \"Kf\": {\n",
    "                      \"value\": 1.8,\n",
    "                      \"optimize\": False,\n",
    "                      \"min\": 0.5,\n",
    "                      \"max\": 3\n",
    "                    },\n",
    "                    \"rho_f\": {\n",
    "                      \"value\": 0.95,\n",
    "                      \"optimize\": False,\n",
    "                      \"min\": 0.01,\n",
    "                      \"max\": 3\n",
    "                    },\n",
    "                    \"phi\": {\n",
    "                      \"value\": 0.76,\n",
    "                      \"optimize\": True,\n",
    "                      \"min\": 0.5,\n",
    "                      \"max\": 0.99\n",
    "                    }\n",
    "                  }\n",
    "}\n",
    "\n",
    "layer_3_seism = {\n",
    "    'vp': 2000,\n",
    "    'vs': 1000,\n",
    "    'rho': 2070\n",
    "}\n",
    "\n",
    "# посмотреть в дипломе Машки!\n",
    "layer_4_seism = {\n",
    "    'vp': 6600,\n",
    "    'vs': 3600,\n",
    "    'rho': 2600,\n",
    "}"
   ]
  },
  {
   "cell_type": "code",
   "execution_count": 7,
   "metadata": {
    "pycharm": {
     "is_executing": false
    }
   },
   "outputs": [],
   "source": [
    "layer_1 = Layer1D(h[0],\n",
    "                  rp_attribute=None,\n",
    "                  seism_attribute=SeismicAttribute(**layer_1_seism),\n",
    "                  opt=LayerOPT.NO)\n",
    "layer_2 = Layer1D(h[1],\n",
    "                  rp_attribute=RockPhysicsAttribute(layer_2_rp['components'], layer_2_rp['name']),\n",
    "                  seism_attribute=None,\n",
    "                  opt=LayerOPT.RP)\n",
    "layer_3 = Layer1D(h[2],\n",
    "                  rp_attribute=None,\n",
    "                  seism_attribute=SeismicAttribute(**layer_3_seism),\n",
    "                  opt=LayerOPT.NO)\n",
    "layer_4 = Layer1D(-1,\n",
    "                  rp_attribute=None,\n",
    "                  seism_attribute=SeismicAttribute(**layer_4_seism),\n",
    "                  opt=LayerOPT.NO)"
   ]
  },
  {
   "cell_type": "code",
   "execution_count": 8,
   "metadata": {
    "pycharm": {
     "is_executing": false
    }
   },
   "outputs": [],
   "source": [
    "model = SeismicModel1D([layer_1, layer_2, layer_3, layer_4])"
   ]
  },
  {
   "cell_type": "code",
   "execution_count": 14,
   "metadata": {},
   "outputs": [],
   "source": [
    "# Многоканальная коса"
   ]
  },
  {
   "cell_type": "code",
   "execution_count": 9,
   "metadata": {
    "pycharm": {
     "is_executing": false
    }
   },
   "outputs": [],
   "source": [
    "dx = 5\n",
    "nx = 100\n",
    "x_rec = [i * dx for i in range(1, nx+1)]\n",
    "wave_types = [OWT.PdPu]"
   ]
  },
  {
   "cell_type": "code",
   "execution_count": null,
   "metadata": {
    "pycharm": {
     "is_executing": true
    }
   },
   "outputs": [
    {
     "name": "stdout",
     "text": [
      "Calculating rockphysics model...\n"
     ],
     "output_type": "stream"
    }
   ],
   "source": [
    "observe, test_seismic = \\\n",
    "    forward_with_trace_calcing(model, x_rec,\n",
    "                               dt=3e-03, trace_len=1500, wavetypes=wave_types, display_stat=True,\n",
    "        visualize_res=False)"
   ]
  },
  {
   "cell_type": "code",
   "execution_count": null,
   "metadata": {},
   "outputs": [],
   "source": []
  }
 ],
 "metadata": {
  "kernelspec": {
   "display_name": "rpsi",
   "language": "python",
   "name": "rpsi"
  },
  "language_info": {
   "codemirror_mode": {
    "name": "ipython",
    "version": 3
   },
   "file_extension": ".py",
   "mimetype": "text/x-python",
   "name": "python",
   "nbconvert_exporter": "python",
   "pygments_lexer": "ipython3",
   "version": "3.7.3"
  }
 },
 "nbformat": 4,
 "nbformat_minor": 2
}