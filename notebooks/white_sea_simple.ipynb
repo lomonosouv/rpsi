{
 "cells": [
  {
   "cell_type": "code",
   "execution_count": 1,
   "metadata": {
    "pycharm": {
     "is_executing": true
    }
   },
   "outputs": [],
   "source": [
    "import sys\n",
    "sys.path.append('../')\n",
    "\n",
    "import numpy as np\n",
    "\n",
    "from fmodeling.ForwardProcessing1D import forward_with_trace_calcing\n",
    "from inversion.Strategies.SeismDiffInversion1D import inverse\n",
    "from inversion.optimizators.optimizations import LBFGSBOptimization, DifferentialEvolution, TrustKrylov, TrustConstr, \\\n",
    "    ConjugateGradient, AxOptimizer\n",
    "from Tests.test_ForwardProcessing1D import get_model_2layered, get_model_3layered\n",
    "from Data.geol_models import get_model_3layered_fluid_rp_dicts\n",
    "from objects.Data.WavePlaceholder import OWT, WaveDataPlaceholder\n",
    "from objects.Models.Models import SeismicModel1D\n",
    "from objects.Attributes.RockPhysics.RockPhysicsAttribute import RockPhysicsAttribute\n",
    "from objects.Attributes.Seismic.SeismicAttribute import SeismicAttribute\n",
    "from objects.Models.Layer1D import Layer1D, LayerOPT\n",
    "import time\n",
    "\n",
    "from matplotlib import pyplot as plt\n",
    "from inversion.Strategies.SeismDiffInversion1D import func_to_optimize\n"
   ]
  },
  {
   "cell_type": "code",
   "execution_count": 2,
   "metadata": {
    "pycharm": {
     "is_executing": false
    }
   },
   "outputs": [],
   "source": [
    "def plot_1D_err(forward_params, nvals, min_max=None, dot=False, vline_x=None):\n",
    "    \n",
    "    if min_max is None:\n",
    "        min_val = forward_params['model'].get_optimization_option(\"min\", vectorize=True)\n",
    "        max_val = forward_params['model'].get_optimization_option(\"max\", vectorize=True)\n",
    "        \n",
    "    else:\n",
    "        min_val = np.array([min_max[0]])\n",
    "        max_val = np.array([min_max[1]])\n",
    "    \n",
    "    dval = (max_val - min_val) / nvals\n",
    "\n",
    "    val_x = [min_val + dval*i for i in range(nvals+1)]\n",
    "    errs = []\n",
    "    for val in val_x:\n",
    "        errs.append(func_to_optimize(val, placeholders, forward_params, helper=None, show_tol=False))\n",
    "        \n",
    "    plt.plot(val_x, errs)\n",
    "    if dot:\n",
    "        plt.plot(val_x, errs, 'o')\n",
    "        \n",
    "    if vline_x is not None:\n",
    "        plt.vlines(vline_x, ymin=min(errs), ymax=max(errs), colors='r')\n",
    "        \n",
    "    plt.show()\n",
    "\n",
    "def optimization_func_2D(forward_params, x, y):\n",
    "    indexes_1 = np.arange(x.shape[0])\n",
    "    indexes_2 = np.arange(x.shape[1])\n",
    "    \n",
    "    Z = np.zeros((x.shape[0], x.shape[1]))\n",
    "    \n",
    "    for ind1 in indexes_1:\n",
    "        for ind2 in indexes_2:\n",
    "            Z[ind1, ind2] = func_to_optimize([x[ind1, ind2], y[ind1, ind2]], placeholders, forward_params, helper=None, show_tol=False)\n",
    "        \n",
    "    return Z\n",
    "\n",
    "def plot_2D_err(forward_params, nvals, ncontous=10, points=None):\n",
    "    min_val = forward_params['model'].get_optimization_option(\"min\", vectorize=True)\n",
    "    max_val = forward_params['model'].get_optimization_option(\"max\", vectorize=True)\n",
    "    \n",
    "    dval = (max_val - min_val) / nvals\n",
    "\n",
    "    val_1_x = [min_val[0] + dval[0]*i for i in range(nvals[0]+1)]\n",
    "    val_2_x = [min_val[1] + dval[1]*i for i in range(nvals[1]+1)]\n",
    "\n",
    "    X, Y = np.meshgrid(val_1_x, val_2_x)\n",
    "\n",
    "    Z = optimization_func_2D(forward_params, X, Y)\n",
    "    \n",
    "    plt.contourf(X, Y, Z, ncontous, cmap='seismic')\n",
    "    plt.colorbar()\n",
    "    \n",
    "    if points is not None:\n",
    "        plt.plot(points[0], points[1], marker='x', color='r')"
   ]
  },
  {
   "cell_type": "markdown",
   "metadata": {},
   "source": [
    "# Четырехслойная модель с газоосадками"
   ]
  },
  {
   "cell_type": "code",
   "execution_count": 3,
   "metadata": {
    "pycharm": {
     "is_executing": false
    }
   },
   "outputs": [],
   "source": [
    "h = [\n",
    "    67.5,\n",
    "    22.5,\n",
    "    20\n",
    "]"
   ]
  },
  {
   "cell_type": "code",
   "execution_count": 4,
   "metadata": {
    "pycharm": {
     "is_executing": false
    }
   },
   "outputs": [],
   "source": [
    "layer_1_seism = {\n",
    "    'vp': 1500,\n",
    "    'vs': 700,\n",
    "    'rho': 1000\n",
    "}\n",
    "\n",
    "layer_2_rp = {\n",
    "    \"name\": \"unconsolidated\",\n",
    "    \"components\": {\n",
    "                    \"Ksi\": {\n",
    "                      \"value\": 38,\n",
    "                      \"optimize\": True,\n",
    "                      \"min\": 20,\n",
    "                      \"max\": 40\n",
    "                    },\n",
    "\t\t\t\t\t\"Gsi\": {\n",
    "                      \"value\": 44,\n",
    "                      \"optimize\": True,\n",
    "                      \"min\": 30,\n",
    "                      \"max\": 50\n",
    "                    },\n",
    "\t\t\t\t\t\"rhosi\": {\n",
    "                      \"value\": 2.2,\n",
    "                      \"optimize\": True,\n",
    "                      \"min\": 2,\n",
    "                      \"max\": 2.5\n",
    "                    },\n",
    "                    \"Ksh\": {\n",
    "                      \"value\": 21.5,\n",
    "                      \"optimize\": True,\n",
    "                      \"min\": 20,\n",
    "                      \"max\": 30\n",
    "                    },\n",
    "\t\t\t\t\t\"Gsh\": {\n",
    "                      \"value\": 7,\n",
    "                      \"optimize\": True,\n",
    "                      \"min\": 5,\n",
    "                      \"max\": 15\n",
    "                    },\n",
    "\t\t\t\t\t\"rhosh\": {\n",
    "                      \"value\": 2.43,\n",
    "                      \"optimize\": True,\n",
    "                      \"min\": 2,\n",
    "                      \"max\": 2.5\n",
    "                    },\n",
    "                    \"Kincl\": {\n",
    "                      \"value\": 36.9,\n",
    "                      \"optimize\": False,\n",
    "                      \"min\": 35,\n",
    "                      \"max\": 40\n",
    "                    },\n",
    "                    \"Gincl\": {\n",
    "                      \"value\": 31,\n",
    "                      \"optimize\": False,\n",
    "                      \"min\": 30,\n",
    "                      \"max\": 35\n",
    "                    },\n",
    "                    \"rhoincl\": {\n",
    "                      \"value\": 2.2,\n",
    "                      \"optimize\": False,\n",
    "                      \"min\": 2,\n",
    "                      \"max\": 2.5\n",
    "                    },\n",
    "                    \"Kfl\": {\n",
    "                      \"value\": 2.29,\n",
    "                      \"optimize\": False,\n",
    "                      \"min\": 0.5,\n",
    "                      \"max\": 5\n",
    "                    },\n",
    "                    \"rhofl\": {\n",
    "                      \"value\": 1,\n",
    "                      \"optimize\": False,\n",
    "                      \"min\": 0.5,\n",
    "                      \"max\": 1.5\n",
    "                    },\n",
    "#                     \"Vsi\": {\n",
    "#                       \"value\": 0.01,\n",
    "#                       \"optimize\": False,\n",
    "#                       \"min\": 0.5,\n",
    "#                       \"max\": 0.99\n",
    "#                     },\n",
    "                    \"Vsh\": {\n",
    "                      \"value\": 0.7,\n",
    "                      \"optimize\": True,\n",
    "                      \"min\": 0.5,\n",
    "                      \"max\": 0.99\n",
    "                    },\n",
    "                    \"Vincl\": {\n",
    "                      \"value\": 0,\n",
    "                      \"optimize\": False,\n",
    "                      \"min\": 0.5,\n",
    "                      \"max\": 0.99\n",
    "                    },\n",
    "                    \"phi\": {\n",
    "                      \"value\": 0.74,\n",
    "                      \"optimize\": True,\n",
    "                      \"min\": 0.5,\n",
    "                      \"max\": 0.99\n",
    "                    }\n",
    "                  }\n",
    "}\n",
    "\n",
    "layer_3_seism = {\n",
    "    'vp': 2000,\n",
    "    'vs': 1000,\n",
    "    'rho': 2070\n",
    "}\n",
    "\n",
    "# посмотреть в дипломе Машки!\n",
    "layer_4_seism = {\n",
    "    'vp': 6600,\n",
    "    'vs': 3600,\n",
    "    'rho': 2600,\n",
    "}"
   ]
  },
  {
   "cell_type": "code",
   "execution_count": 5,
   "metadata": {
    "pycharm": {
     "is_executing": false
    }
   },
   "outputs": [],
   "source": [
    "layer_1 = Layer1D(h[0],\n",
    "                  rp_attribute=None,\n",
    "                  seism_attribute=SeismicAttribute(**layer_1_seism),\n",
    "                  opt=LayerOPT.NO)\n",
    "layer_2 = Layer1D(h[1],\n",
    "                  rp_attribute=RockPhysicsAttribute(layer_2_rp['components'], layer_2_rp['name']),\n",
    "                  seism_attribute=None,\n",
    "                  opt=LayerOPT.RP)\n",
    "layer_3 = Layer1D(h[2],\n",
    "                  rp_attribute=None,\n",
    "                  seism_attribute=SeismicAttribute(**layer_3_seism),\n",
    "                  opt=LayerOPT.NO)\n",
    "layer_4 = Layer1D(-1,\n",
    "                  rp_attribute=None,\n",
    "                  seism_attribute=SeismicAttribute(**layer_4_seism),\n",
    "                  opt=LayerOPT.NO)"
   ]
  },
  {
   "cell_type": "code",
   "execution_count": 6,
   "metadata": {
    "pycharm": {
     "is_executing": false
    }
   },
   "outputs": [],
   "source": [
    "model = SeismicModel1D([layer_1, layer_2, layer_3, layer_4])"
   ]
  },
  {
   "cell_type": "code",
   "execution_count": 7,
   "metadata": {
    "pycharm": {
     "is_executing": false
    }
   },
   "outputs": [],
   "source": [
    "# Многоканальная коса"
   ]
  },
  {
   "cell_type": "code",
   "execution_count": 8,
   "metadata": {
    "pycharm": {
     "is_executing": false
    }
   },
   "outputs": [],
   "source": [
    "dx = 2\n",
    "nx = 100\n",
    "x_rec = [i * dx for i in range(1, nx+1)]\n",
    "wave_types = [OWT.PdPu_water]\n",
    "dt = 1e-04\n",
    "tracelen = 2000"
   ]
  },
  {
   "cell_type": "markdown",
   "metadata": {},
   "source": [
    "# Forward modeling"
   ]
  },
  {
   "cell_type": "code",
   "execution_count": 9,
   "metadata": {
    "pycharm": {
     "is_executing": false
    }
   },
   "outputs": [
    {
     "name": "stdout",
     "output_type": "stream",
     "text": [
      "Calculating rockphysics model...\n",
      "Rockphysics model calculated!\n",
      "Calculating PdPu_water-rays...\n"
     ]
    },
    {
     "name": "stderr",
     "output_type": "stream",
     "text": [
      "/home/apenkin/workspace/rpsi_proj/rpsi/fmodeling/seismic/dynamic/bounds.py:61: ComplexWarning: Casting complex values to real discards the imaginary part\n",
      "  angles[idx])\n"
     ]
    },
    {
     "data": {
      "image/png": "[encoded data removed]",
      "text/plain": [
       "<Figure size 432x288 with 1 Axes>"
      ]
     },
     "metadata": {
      "needs_background": "light"
     },
     "output_type": "display_data"
    }
   ],
   "source": [
    "observe, test_seismic = \\\n",
    "    forward_with_trace_calcing(model, x_rec,\n",
    "                               dt=dt, trace_len=tracelen, wavetypes=wave_types, display_stat=True,\n",
    "        visualize_res=False, visualize_seismograms=True)"
   ]
  },
  {
   "cell_type": "code",
   "execution_count": 10,
   "metadata": {},
   "outputs": [],
   "source": [
    "true_vals = model.get_optimization_option('val')"
   ]
  },
  {
   "cell_type": "code",
   "execution_count": 11,
   "metadata": {
    "pycharm": {
     "is_executing": false
    }
   },
   "outputs": [
    {
     "data": {
      "text/plain": [
       "OrderedDict([(1,\n",
       "              {'Ksi': 38,\n",
       "               'Gsi': 44,\n",
       "               'rhosi': 2.2,\n",
       "               'Ksh': 21.5,\n",
       "               'Gsh': 7,\n",
       "               'rhosh': 2.43,\n",
       "               'Vsh': 0.7,\n",
       "               'phi': 0.74})])"
      ]
     },
     "execution_count": 11,
     "metadata": {},
     "output_type": "execute_result"
    }
   ],
   "source": [
    "true_vals"
   ]
  },
  {
   "cell_type": "code",
   "execution_count": 12,
   "metadata": {
    "pycharm": {
     "is_executing": false
    }
   },
   "outputs": [
    {
     "data": {
      "text/plain": [
       "{'vp': 1500, 'vs': 700, 'rho': 1000}"
      ]
     },
     "execution_count": 12,
     "metadata": {},
     "output_type": "execute_result"
    }
   ],
   "source": [
    "model.layers[0].seism_attribute.vals_dict"
   ]
  },
  {
   "cell_type": "code",
   "execution_count": 13,
   "metadata": {
    "pycharm": {
     "is_executing": false
    }
   },
   "outputs": [
    {
     "data": {
      "text/plain": [
       "{'vp': 1534.1089459244965, 'vs': 200.08822703140874, 'rho': 1353.8600000000001}"
      ]
     },
     "execution_count": 13,
     "metadata": {},
     "output_type": "execute_result"
    }
   ],
   "source": [
    "model.layers[1].seism_attribute.vals_dict"
   ]
  },
  {
   "cell_type": "markdown",
   "metadata": {},
   "source": [
    "# Inversion"
   ]
  },
  {
   "cell_type": "code",
   "execution_count": 14,
   "metadata": {
    "pycharm": {
     "is_executing": false
    }
   },
   "outputs": [],
   "source": [
    "forward_params = {\n",
    "    \"model\": model,\n",
    "    \"x_rec\": x_rec,\n",
    "    \"dt\": dt,\n",
    "    \"trace_len\": tracelen,\n",
    "    \"wavetypes\": wave_types,\n",
    "    \"display_stat\": False,\n",
    "    \"visualize_res\": False\n",
    "}"
   ]
  },
  {
   "cell_type": "code",
   "execution_count": 15,
   "metadata": {
    "pycharm": {
     "is_executing": false
    }
   },
   "outputs": [],
   "source": [
    "placeholders = {}\n",
    "for wt in wave_types:\n",
    "    placeholders[wt] = WaveDataPlaceholder(\n",
    "        wt,\n",
    "        test_seismic[wt][\"rays\"],\n",
    "        test_seismic[wt][\"seismogram\"]\n",
    "    )"
   ]
  },
  {
   "cell_type": "code",
   "execution_count": 16,
   "metadata": {
    "pycharm": {
     "is_executing": false
    }
   },
   "outputs": [],
   "source": [
    "optimizers_de = [\n",
    "    DifferentialEvolution(\n",
    "          popsize= 5,\n",
    "          maxiter= 50000,\n",
    "          init= \"latinhypercube\",\n",
    "          strategy= \"best1bin\",\n",
    "          disp= False,\n",
    "          polish= False,\n",
    "          tol= 0.00001,\n",
    "          mutation= 1.5,\n",
    "          recombination= 0.6,\n",
    "          workers= 8\n",
    "    )\n",
    "]"
   ]
  },
  {
   "cell_type": "code",
   "execution_count": 17,
   "metadata": {
    "pycharm": {
     "is_executing": false
    }
   },
   "outputs": [],
   "source": [
    "optimizers_lbfgs = [\n",
    "    LBFGSBOptimization(\n",
    "        maxiter=15000,\n",
    "        maxfun=15000,\n",
    "#         factr=10000,\n",
    "#         maxls=50,\n",
    "#         epsilon=0.000001\n",
    "    )\n",
    "]"
   ]
  },
  {
   "cell_type": "code",
   "execution_count": 18,
   "metadata": {
    "pycharm": {
     "is_executing": false
    }
   },
   "outputs": [],
   "source": [
    "optimizers_ax = [\n",
    "    AxOptimizer(num_evals=20, log_scale=True)\n",
    "]"
   ]
  },
  {
   "cell_type": "code",
   "execution_count": 51,
   "metadata": {
    "pycharm": {
     "is_executing": false
    }
   },
   "outputs": [
    {
     "name": "stdout",
     "output_type": "stream",
     "text": [
      "[30.  40.   2.  20.   5.   2.   0.5  0.5] [40.   50.    2.5  30.   15.    2.5   0.99  0.99]\n"
     ]
    }
   ],
   "source": [
    "min_vals = forward_params['model'].get_optimization_option('min', vectorize=True)\n",
    "max_vals = forward_params['model'].get_optimization_option('max', vectorize=True)\n",
    "start_vals = np.random.uniform(min_vals, max_vals)\n",
    "\n",
    "print(min_vals, max_vals)"
   ]
  },
  {
   "cell_type": "code",
   "execution_count": 52,
   "metadata": {
    "pycharm": {
     "is_executing": false
    }
   },
   "outputs": [
    {
     "data": {
      "text/plain": [
       "array([36.17970179, 46.08351848,  2.37773823, 21.87822078,  9.66238172,\n",
       "        2.21049695,  0.94270364,  0.78960224])"
      ]
     },
     "execution_count": 52,
     "metadata": {},
     "output_type": "execute_result"
    }
   ],
   "source": [
    "start_vals"
   ]
  },
  {
   "cell_type": "code",
   "execution_count": 53,
   "metadata": {
    "pycharm": {
     "is_executing": false
    }
   },
   "outputs": [],
   "source": [
    "forward_params['model'].set_optimization_option(start_vals)"
   ]
  },
  {
   "cell_type": "code",
   "execution_count": 54,
   "metadata": {
    "pycharm": {
     "is_executing": false
    }
   },
   "outputs": [
    {
     "data": {
      "text/plain": [
       "array([36.17970179, 46.08351848,  2.37773823, 21.87822078,  9.66238172,\n",
       "        2.21049695,  0.94270364,  0.78960224])"
      ]
     },
     "execution_count": 54,
     "metadata": {},
     "output_type": "execute_result"
    }
   ],
   "source": [
    "forward_params['model'].get_optimization_option('val', vectorize=True)"
   ]
  },
  {
   "cell_type": "code",
   "execution_count": 67,
   "metadata": {
    "pycharm": {
     "is_executing": false
    }
   },
   "outputs": [
    {
     "data": {
      "text/plain": [
       "0.010729592099604062"
      ]
     },
     "execution_count": 67,
     "metadata": {},
     "output_type": "execute_result"
    }
   ],
   "source": [
    "func_to_optimize(forward_params['model'].get_optimization_option('val', vectorize=True), placeholders, forward_params, helper=None, show_tol=False)"
   ]
  },
  {
   "cell_type": "code",
   "execution_count": 19,
   "metadata": {
    "pycharm": {
     "is_executing": false
    },
    "scrolled": true
   },
   "outputs": [
    {
     "name": "stderr",
     "output_type": "stream",
     "text": [
      "[INFO 10-30 15:43:58] ax.service.utils.dispatch: Using Bayesian Optimization generation strategy: GenerationStrategy(name='Sobol+GPEI', steps=[Sobol for 8 arms, GPEI for subsequent arms], generated 0 arm(s) so far). Iterations after 8 will take longer to generate due to model-fitting.\n",
      "[INFO 10-30 15:43:58] ax.service.managed_loop: Started full optimization with 20 steps.\n",
      "[INFO 10-30 15:43:58] ax.service.managed_loop: Running optimization trial 1...\n",
      "/home/apenkin/workspace/rpsi_proj/rpsi/fmodeling/seismic/dynamic/bounds.py:61: ComplexWarning: Casting complex values to real discards the imaginary part\n",
      "  angles[idx])\n",
      "[INFO 10-30 15:43:58] ax.service.managed_loop: Running optimization trial 2...\n",
      "[INFO 10-30 15:43:58] ax.service.managed_loop: Running optimization trial 3...\n"
     ]
    },
    {
     "name": "stdout",
     "output_type": "stream",
     "text": [
      "0.039295658606055515\n",
      "0.02044915020075227\n"
     ]
    },
    {
     "name": "stderr",
     "output_type": "stream",
     "text": [
      "[INFO 10-30 15:43:58] ax.service.managed_loop: Running optimization trial 4...\n",
      "[INFO 10-30 15:43:59] ax.service.managed_loop: Running optimization trial 5...\n"
     ]
    },
    {
     "name": "stdout",
     "output_type": "stream",
     "text": [
      "0.04047913674566064\n",
      "0.04143072449761298\n"
     ]
    },
    {
     "name": "stderr",
     "output_type": "stream",
     "text": [
      "[INFO 10-30 15:43:59] ax.service.managed_loop: Running optimization trial 6...\n",
      "[INFO 10-30 15:43:59] ax.service.managed_loop: Running optimization trial 7...\n"
     ]
    },
    {
     "name": "stdout",
     "output_type": "stream",
     "text": [
      "0.025492128012232242\n",
      "0.049925598402446245\n"
     ]
    },
    {
     "name": "stderr",
     "output_type": "stream",
     "text": [
      "[INFO 10-30 15:43:59] ax.service.managed_loop: Running optimization trial 8...\n",
      "[INFO 10-30 15:43:59] ax.service.managed_loop: Running optimization trial 9...\n"
     ]
    },
    {
     "name": "stdout",
     "output_type": "stream",
     "text": [
      "0.011898548090748737\n",
      "0.0450918196674222\n"
     ]
    },
    {
     "name": "stderr",
     "output_type": "stream",
     "text": [
      "/home/apenkin/workspace/rpsi_proj/rpsi/fmodeling/seismic/dynamic/bounds.py:61: ComplexWarning: Casting complex values to real discards the imaginary part\n",
      "  angles[idx])\n",
      "[INFO 10-30 15:44:02] ax.service.managed_loop: Running optimization trial 10...\n"
     ]
    },
    {
     "name": "stdout",
     "output_type": "stream",
     "text": [
      "0.014974886967248042\n"
     ]
    },
    {
     "name": "stderr",
     "output_type": "stream",
     "text": [
      "/home/apenkin/workspace/rpsi_proj/rpsi/fmodeling/seismic/dynamic/bounds.py:61: ComplexWarning: Casting complex values to real discards the imaginary part\n",
      "  angles[idx])\n",
      "[INFO 10-30 15:44:05] ax.service.managed_loop: Running optimization trial 11...\n"
     ]
    },
    {
     "name": "stdout",
     "output_type": "stream",
     "text": [
      "0.0119641676648768\n"
     ]
    },
    {
     "name": "stderr",
     "output_type": "stream",
     "text": [
      "/home/apenkin/workspace/rpsi_proj/rpsi/fmodeling/seismic/dynamic/bounds.py:61: ComplexWarning: Casting complex values to real discards the imaginary part\n",
      "  angles[idx])\n",
      "[INFO 10-30 15:44:08] ax.service.managed_loop: Running optimization trial 12...\n"
     ]
    },
    {
     "name": "stdout",
     "output_type": "stream",
     "text": [
      "0.006197648222716951\n"
     ]
    },
    {
     "name": "stderr",
     "output_type": "stream",
     "text": [
      "/home/apenkin/workspace/rpsi_proj/rpsi/fmodeling/seismic/dynamic/bounds.py:61: ComplexWarning: Casting complex values to real discards the imaginary part\n",
      "  angles[idx])\n",
      "[INFO 10-30 15:44:11] ax.service.managed_loop: Running optimization trial 13...\n"
     ]
    },
    {
     "name": "stdout",
     "output_type": "stream",
     "text": [
      "0.003515082729511559\n"
     ]
    },
    {
     "name": "stderr",
     "output_type": "stream",
     "text": [
      "/home/apenkin/workspace/rpsi_proj/rpsi/fmodeling/seismic/dynamic/bounds.py:61: ComplexWarning: Casting complex values to real discards the imaginary part\n",
      "  angles[idx])\n",
      "[INFO 10-30 15:44:14] ax.service.managed_loop: Running optimization trial 14...\n"
     ]
    },
    {
     "name": "stdout",
     "output_type": "stream",
     "text": [
      "0.01077399292004994\n"
     ]
    },
    {
     "name": "stderr",
     "output_type": "stream",
     "text": [
      "/home/apenkin/workspace/rpsi_proj/rpsi/fmodeling/seismic/dynamic/bounds.py:61: ComplexWarning: Casting complex values to real discards the imaginary part\n",
      "  angles[idx])\n",
      "[INFO 10-30 15:44:18] ax.service.managed_loop: Running optimization trial 15...\n"
     ]
    },
    {
     "name": "stdout",
     "output_type": "stream",
     "text": [
      "0.024366642267080473\n"
     ]
    },
    {
     "name": "stderr",
     "output_type": "stream",
     "text": [
      "/home/apenkin/workspace/rpsi_proj/rpsi/fmodeling/seismic/dynamic/bounds.py:61: ComplexWarning: Casting complex values to real discards the imaginary part\n",
      "  angles[idx])\n",
      "[INFO 10-30 15:44:21] ax.service.managed_loop: Running optimization trial 16...\n"
     ]
    },
    {
     "name": "stdout",
     "output_type": "stream",
     "text": [
      "0.007182597084657309\n"
     ]
    },
    {
     "name": "stderr",
     "output_type": "stream",
     "text": [
      "/home/apenkin/workspace/rpsi_proj/rpsi/fmodeling/seismic/dynamic/bounds.py:61: ComplexWarning: Casting complex values to real discards the imaginary part\n",
      "  angles[idx])\n",
      "[INFO 10-30 15:44:25] ax.service.managed_loop: Running optimization trial 17...\n"
     ]
    },
    {
     "name": "stdout",
     "output_type": "stream",
     "text": [
      "0.0007381544121865546\n"
     ]
    },
    {
     "name": "stderr",
     "output_type": "stream",
     "text": [
      "/home/apenkin/workspace/rpsi_proj/rpsi/fmodeling/seismic/dynamic/bounds.py:61: ComplexWarning: Casting complex values to real discards the imaginary part\n",
      "  angles[idx])\n",
      "[INFO 10-30 15:44:29] ax.service.managed_loop: Running optimization trial 18...\n"
     ]
    },
    {
     "name": "stdout",
     "output_type": "stream",
     "text": [
      "0.00592532529934405\n"
     ]
    },
    {
     "name": "stderr",
     "output_type": "stream",
     "text": [
      "/home/apenkin/workspace/rpsi_proj/rpsi/fmodeling/seismic/dynamic/bounds.py:61: ComplexWarning: Casting complex values to real discards the imaginary part\n",
      "  angles[idx])\n",
      "[INFO 10-30 15:44:33] ax.service.managed_loop: Running optimization trial 19...\n"
     ]
    },
    {
     "name": "stdout",
     "output_type": "stream",
     "text": [
      "0.0021514199547122484\n"
     ]
    },
    {
     "name": "stderr",
     "output_type": "stream",
     "text": [
      "/home/apenkin/workspace/rpsi_proj/rpsi/fmodeling/seismic/dynamic/bounds.py:61: ComplexWarning: Casting complex values to real discards the imaginary part\n",
      "  angles[idx])\n",
      "[INFO 10-30 15:44:37] ax.service.managed_loop: Running optimization trial 20...\n"
     ]
    },
    {
     "name": "stdout",
     "output_type": "stream",
     "text": [
      "0.0023342049966310363\n",
      "0.0022067519217263214\n",
      "time: 42.30028176307678\n"
     ]
    },
    {
     "name": "stderr",
     "output_type": "stream",
     "text": [
      "/home/apenkin/workspace/rpsi_proj/rpsi/fmodeling/seismic/dynamic/bounds.py:61: ComplexWarning: Casting complex values to real discards the imaginary part\n",
      "  angles[idx])\n"
     ]
    }
   ],
   "source": [
    "# scale=\"minmax\"\n",
    "scale=None\n",
    "# scale=\"lg\"\n",
    "start_time = time.time()\n",
    "inversed_vals = inverse(optimizers_ax, error=0.001, placeholders=placeholders, forward_params=forward_params, scale=scale)\n",
    "print(f\"time: {time.time() - start_time}\")"
   ]
  },
  {
   "cell_type": "code",
   "execution_count": 34,
   "metadata": {
    "pycharm": {
     "is_executing": false
    }
   },
   "outputs": [
    {
     "data": {
      "text/plain": [
       "[33.629443985509546,\n",
       " 38.01008739865736,\n",
       " 2.5,\n",
       " 20.000000000000004,\n",
       " 6.241430753035826,\n",
       " 2.2930277574608233,\n",
       " 0.6011873880170326,\n",
       " 0.7268092977056261]"
      ]
     },
     "execution_count": 34,
     "metadata": {},
     "output_type": "execute_result"
    }
   ],
   "source": [
    "inversed_vals"
   ]
  },
  {
   "cell_type": "code",
   "execution_count": 33,
   "metadata": {},
   "outputs": [],
   "source": [
    "result = {key: {\n",
    "    \"real\": val,\n",
    "    \"inversed\": inv\n",
    "} for key, val, inv in zip(true_vals[1].keys(), true_vals[1].values(), inversed_vals)}"
   ]
  },
  {
   "cell_type": "code",
   "execution_count": 35,
   "metadata": {},
   "outputs": [
    {
     "data": {
      "text/plain": [
       "{'Ksi': {'real': 38, 'inversed': 33.629443985509546},\n",
       " 'Gsi': {'real': 44, 'inversed': 38.01008739865736},\n",
       " 'rhosi': {'real': 2.2, 'inversed': 2.5},\n",
       " 'Ksh': {'real': 21.5, 'inversed': 20.000000000000004},\n",
       " 'Gsh': {'real': 7, 'inversed': 6.241430753035826},\n",
       " 'rhosh': {'real': 2.43, 'inversed': 2.2930277574608233},\n",
       " 'Vsh': {'real': 0.7, 'inversed': 0.6011873880170326},\n",
       " 'phi': {'real': 0.74, 'inversed': 0.7268092977056261}}"
      ]
     },
     "execution_count": 35,
     "metadata": {},
     "output_type": "execute_result"
    }
   ],
   "source": [
    "result"
   ]
  },
  {
   "cell_type": "code",
   "execution_count": null,
   "metadata": {
    "pycharm": {
     "is_executing": false
    }
   },
   "outputs": [],
   "source": [
    "plot_1D_err(forward_params, 100, vline_x=inversed_model)"
   ]
  },
  {
   "cell_type": "code",
   "execution_count": 36,
   "metadata": {
    "pycharm": {
     "is_executing": false
    }
   },
   "outputs": [
    {
     "name": "stderr",
     "output_type": "stream",
     "text": [
      "/home/apenkin/workspace/rpsi_proj/rpsi/fmodeling/seismic/dynamic/bounds.py:61: ComplexWarning: Casting complex values to real discards the imaginary part\n",
      "  angles[idx])\n"
     ]
    },
    {
     "data": {
      "text/plain": [
       "0.0007381544121865546"
      ]
     },
     "execution_count": 36,
     "metadata": {},
     "output_type": "execute_result"
    }
   ],
   "source": [
    "func_to_optimize(inversed_vals, placeholders, forward_params, helper=None, show_tol=False)"
   ]
  },
  {
   "cell_type": "code",
   "execution_count": null,
   "metadata": {
    "pycharm": {
     "is_executing": false
    }
   },
   "outputs": [],
   "source": [
    "res_observe, res_seismic = forward_with_trace_calcing(forward_params['model'], forward_params['x_rec'], \n",
    "                           dt=forward_params['dt'], \n",
    "                           trace_len=forward_params['trace_len'], \n",
    "                           wavetypes=forward_params['wavetypes'],\n",
    "            display_stat=True, visualize_res=False,\n",
    "                               visualize_seismograms=True\n",
    "            )"
   ]
  },
  {
   "cell_type": "code",
   "execution_count": null,
   "metadata": {
    "pycharm": {
     "is_executing": false
    }
   },
   "outputs": [],
   "source": [
    "diff = test_seismic[OWT.PdPu_water]['seismogram'] - res_seismic[OWT.PdPu_water]['seismogram']"
   ]
  },
  {
   "cell_type": "code",
   "execution_count": null,
   "metadata": {
    "pycharm": {
     "is_executing": false
    }
   },
   "outputs": [],
   "source": [
    "from Visualization.Seismic import visualize_seismogram\n"
   ]
  },
  {
   "cell_type": "code",
   "execution_count": null,
   "metadata": {
    "pycharm": {
     "is_executing": false
    }
   },
   "outputs": [],
   "source": [
    "fig, ax = plt.subplots(figsize=(12,8))\n",
    "\n",
    "visualize_seismogram(fig, ax, diff, wiggles=False)\n"
   ]
  },
  {
   "cell_type": "code",
   "execution_count": null,
   "metadata": {
    "pycharm": {
     "is_executing": false
    }
   },
   "outputs": [],
   "source": []
  }
 ],
 "metadata": {
  "kernelspec": {
   "display_name": "rpsi",
   "language": "python",
   "name": "rpsi"
  },
  "language_info": {
   "codemirror_mode": {
    "name": "ipython",
    "version": 3
   },
   "file_extension": ".py",
   "mimetype": "text/x-python",
   "name": "python",
   "nbconvert_exporter": "python",
   "pygments_lexer": "ipython3",
   "version": "3.7.3"
  },
  "pycharm": {
   "stem_cell": {
    "cell_type": "raw",
    "metadata": {
     "collapsed": false
    },
    "source": []
   }
  }
 },
 "nbformat": 4,
 "nbformat_minor": 2
}
