{
 "cells": [
  {
   "cell_type": "code",
   "execution_count": 38,
   "metadata": {
    "pycharm": {
     "is_executing": false
    }
   },
   "outputs": [
    {
     "traceback": [
      "\u001b[0;31m---------------------------------------------------------------------------\u001b[0m",
      "\u001b[0;31mImportError\u001b[0m                               Traceback (most recent call last)",
      "\u001b[0;32m<ipython-input-38-ef07eb35bb95>\u001b[0m in \u001b[0;36m<module>\u001b[0;34m\u001b[0m\n\u001b[1;32m      9\u001b[0m     \u001b[0mConjugateGradient\u001b[0m\u001b[0;34m\u001b[0m\u001b[0;34m\u001b[0m\u001b[0m\n\u001b[1;32m     10\u001b[0m \u001b[0;32mfrom\u001b[0m \u001b[0mTests\u001b[0m\u001b[0;34m.\u001b[0m\u001b[0mtest_ForwardProcessing1D\u001b[0m \u001b[0;32mimport\u001b[0m \u001b[0mget_model_2layered\u001b[0m\u001b[0;34m,\u001b[0m \u001b[0mget_model_3layered\u001b[0m\u001b[0;34m\u001b[0m\u001b[0;34m\u001b[0m\u001b[0m\n\u001b[0;32m---> 11\u001b[0;31m \u001b[0;32mfrom\u001b[0m \u001b[0mData\u001b[0m\u001b[0;34m.\u001b[0m\u001b[0mgeol_models\u001b[0m \u001b[0;32mimport\u001b[0m \u001b[0mget_model_3layered_fluid_rp_dicts\u001b[0m\u001b[0;34m\u001b[0m\u001b[0;34m\u001b[0m\u001b[0m\n\u001b[0m\u001b[1;32m     12\u001b[0m \u001b[0;32mfrom\u001b[0m \u001b[0mObjects\u001b[0m\u001b[0;34m.\u001b[0m\u001b[0mData\u001b[0m\u001b[0;34m.\u001b[0m\u001b[0mWavePlaceholder\u001b[0m \u001b[0;32mimport\u001b[0m \u001b[0mOWT\u001b[0m\u001b[0;34m,\u001b[0m \u001b[0mWaveDataPlaceholder\u001b[0m\u001b[0;34m\u001b[0m\u001b[0;34m\u001b[0m\u001b[0m\n\u001b[1;32m     13\u001b[0m \u001b[0;32mfrom\u001b[0m \u001b[0mObjects\u001b[0m\u001b[0;34m.\u001b[0m\u001b[0mModels\u001b[0m\u001b[0;34m.\u001b[0m\u001b[0mModels\u001b[0m \u001b[0;32mimport\u001b[0m \u001b[0mSeismicModel1D\u001b[0m\u001b[0;34m\u001b[0m\u001b[0;34m\u001b[0m\u001b[0m\n",
      "\u001b[0;31mImportError\u001b[0m: cannot import name 'get_model_3layered_fluid_rp_dicts' from 'Data.geol_models' (/home/apenkin/workspace/rpsi_proj/rpsi/Data/geol_models.py)"
     ],
     "ename": "ImportError",
     "evalue": "cannot import name 'get_model_3layered_fluid_rp_dicts' from 'Data.geol_models' (/home/apenkin/workspace/rpsi_proj/rpsi/Data/geol_models.py)",
     "output_type": "error"
    }
   ],
   "source": [
    "import sys\n",
    "sys.path.append('../')\n",
    "\n",
    "import numpy as np\n",
    "\n",
    "from ForwardModeling.ForwardProcessing1D import forward_with_trace_calcing\n",
    "from Inversion.Strategies.SeismDiffInversion1D import inverse\n",
    "from Inversion.Optimizators.Optimizations import LBFGSBOptimization, DifferentialEvolution, TrustKrylov, TrustConstr, \\\n",
    "    ConjugateGradient\n",
    "from Tests.test_ForwardProcessing1D import get_model_2layered, get_model_3layered\n",
    "from Data.geol_models import get_model_3layered_fluid_rp_dicts\n",
    "from Objects.Data.WavePlaceholder import OWT, WaveDataPlaceholder\n",
    "from Objects.Models.Models import SeismicModel1D\n",
    "from Objects.Attributes.RockPhysics.RockPhysicsAttribute import RockPhysicsAttribute\n",
    "from Objects.Models.Layer1D import Layer1D, LayerOPT\n",
    "import time\n",
    "\n",
    "from matplotlib import pyplot as plt\n",
    "from Inversion.Strategies.SeismDiffInversion1D import func_to_optimize"
   ]
  },
  {
   "cell_type": "code",
   "execution_count": 30,
   "metadata": {
    "pycharm": {
     "is_executing": false
    }
   },
   "outputs": [],
   "source": [
    "def plot_1D_err(forward_params, nvals, min_max=None, dot=False, vline_x=None):\n",
    "    \n",
    "    if min_max is None:\n",
    "        min_val = forward_params['model'].get_optimization_option(\"min\", vectorize=True)\n",
    "        max_val = forward_params['model'].get_optimization_option(\"max\", vectorize=True)\n",
    "        \n",
    "    else:\n",
    "        min_val = np.array([min_max[0]])\n",
    "        max_val = np.array([min_max[1]])\n",
    "    \n",
    "    dval = (max_val - min_val) / nvals\n",
    "\n",
    "    val_x = [min_val + dval*i for i in range(nvals+1)]\n",
    "    errs = []\n",
    "    for val in val_x:\n",
    "        errs.append(func_to_optimize(val, placeholders, forward_params, helper=None, show_tol=False))\n",
    "        \n",
    "    plt.plot(val_x, errs)\n",
    "    if dot:\n",
    "        plt.plot(val_x, errs, 'o')\n",
    "        \n",
    "    if vline_x is not None:\n",
    "        plt.vlines(vline_x, ymin=min(errs), ymax=max(errs), colors='r')\n",
    "        \n",
    "    plt.show()\n",
    "\n",
    "def optimization_func_2D(forward_params, x, y):\n",
    "    indexes_1 = np.arange(x.shape[0])\n",
    "    indexes_2 = np.arange(x.shape[1])\n",
    "    \n",
    "    Z = np.zeros((x.shape[0], x.shape[1]))\n",
    "    \n",
    "    for ind1 in indexes_1:\n",
    "        for ind2 in indexes_2:\n",
    "            Z[ind1, ind2] = func_to_optimize([x[ind1, ind2], y[ind1, ind2]], placeholders, forward_params, helper=None, show_tol=False)\n",
    "        \n",
    "    return Z\n",
    "\n",
    "def plot_2D_err(forward_params, nvals, ncontous=10, points=None):\n",
    "    min_val = forward_params['model'].get_optimization_option(\"min\", vectorize=True)\n",
    "    max_val = forward_params['model'].get_optimization_option(\"max\", vectorize=True)\n",
    "    \n",
    "    dval = (max_val - min_val) / nvals\n",
    "\n",
    "    val_1_x = [min_val[0] + dval[0]*i for i in range(nvals[0]+1)]\n",
    "    val_2_x = [min_val[1] + dval[1]*i for i in range(nvals[1]+1)]\n",
    "\n",
    "    X, Y = np.meshgrid(val_1_x, val_2_x)\n",
    "\n",
    "    Z = optimization_func_2D(forward_params, X, Y)\n",
    "    \n",
    "    plt.contourf(X, Y, Z, ncontous, cmap='seismic')\n",
    "    plt.colorbar()\n",
    "    \n",
    "    if points is not None:\n",
    "        plt.plot(points[0], points[1], marker='x', color='r')"
   ]
  },
  {
   "cell_type": "markdown",
   "metadata": {},
   "source": [
    "# 2-layered model"
   ]
  },
  {
   "cell_type": "code",
   "execution_count": 20,
   "metadata": {
    "pycharm": {
     "is_executing": false
    }
   },
   "outputs": [
    {
     "traceback": [
      "\u001b[0;31m---------------------------------------------------------------------------\u001b[0m",
      "\u001b[0;31mNameError\u001b[0m                                 Traceback (most recent call last)",
      "\u001b[0;32m<ipython-input-20-b5b2d5394bc8>\u001b[0m in \u001b[0;36m<module>\u001b[0;34m\u001b[0m\n\u001b[0;32m----> 1\u001b[0;31m layer_1 = Layer1D(h,\n\u001b[0m\u001b[1;32m      2\u001b[0m                   \u001b[0mrp_attribute\u001b[0m\u001b[0;34m=\u001b[0m\u001b[0mRockPhysicsAttribute\u001b[0m\u001b[0;34m(\u001b[0m\u001b[0mlayer_1_dict\u001b[0m\u001b[0;34m[\u001b[0m\u001b[0;34m\"components\"\u001b[0m\u001b[0;34m]\u001b[0m\u001b[0;34m,\u001b[0m \u001b[0mlayer_1_dict\u001b[0m\u001b[0;34m[\u001b[0m\u001b[0;34m\"name\"\u001b[0m\u001b[0;34m]\u001b[0m\u001b[0;34m)\u001b[0m\u001b[0;34m,\u001b[0m\u001b[0;34m\u001b[0m\u001b[0;34m\u001b[0m\u001b[0m\n\u001b[1;32m      3\u001b[0m                   \u001b[0mseism_attribute\u001b[0m\u001b[0;34m=\u001b[0m\u001b[0;32mNone\u001b[0m\u001b[0;34m,\u001b[0m\u001b[0;34m\u001b[0m\u001b[0;34m\u001b[0m\u001b[0m\n\u001b[1;32m      4\u001b[0m                   opt=LayerOPT.RP)\n\u001b[1;32m      5\u001b[0m \u001b[0;34m\u001b[0m\u001b[0m\n",
      "\u001b[0;31mNameError\u001b[0m: name 'h' is not defined"
     ],
     "ename": "NameError",
     "evalue": "name 'h' is not defined",
     "output_type": "error"
    }
   ],
   "source": [
    "layer_1 = Layer1D(h,\n",
    "                  rp_attribute=RockPhysicsAttribute(layer_1_dict[\"components\"], layer_1_dict[\"name\"]),\n",
    "                  seism_attribute=None,\n",
    "                  opt=LayerOPT.RP)\n",
    "\n",
    "layer_2 = Layer1D(-1,\n",
    "                  rp_attribute=RockPhysicsAttribute(layer_2_dict[\"components\"], layer_2_dict[\"name\"]),\n",
    "                  seism_attribute=None,\n",
    "                  opt=LayerOPT.RP)"
   ]
  },
  {
   "cell_type": "code",
   "execution_count": null,
   "metadata": {
    "pycharm": {
     "is_executing": false
    }
   },
   "outputs": [],
   "source": [
    "dx = 100\n",
    "nx = 20\n",
    "x_rec = [i * dx for i in range(1, nx)]\n",
    "wave_types = [OWT.PdPu]"
   ]
  },
  {
   "cell_type": "code",
   "execution_count": null,
   "metadata": {
    "pycharm": {
     "is_executing": false
    }
   },
   "outputs": [],
   "source": [
    "model = SeismicModel1D([layer_1, layer_2])\n",
    "model_true = SeismicModel1D([layer_1, layer_2])\n",
    "model_opt = SeismicModel1D([layer_1, layer_2])"
   ]
  },
  {
   "cell_type": "code",
   "execution_count": null,
   "metadata": {
    "pycharm": {
     "is_executing": false
    }
   },
   "outputs": [],
   "source": [
    "observe, test_seismic = \\\n",
    "    forward_with_trace_calcing(model, x_rec,\n",
    "                               dt=3e-03, trace_len=1500, wavetypes=wave_types, display_stat=True,\n",
    "        visualize_res=False)"
   ]
  },
  {
   "cell_type": "code",
   "execution_count": null,
   "metadata": {
    "pycharm": {
     "is_executing": false
    }
   },
   "outputs": [],
   "source": [
    "forward_params = {\n",
    "    \"model\": model,\n",
    "    \"x_rec\": x_rec,\n",
    "    \"dt\": 3e-03,\n",
    "    \"trace_len\": 1500,\n",
    "    \"wavetypes\": wave_types,\n",
    "    \"display_stat\": False,\n",
    "    \"visualize_res\": False\n",
    "}"
   ]
  },
  {
   "cell_type": "code",
   "execution_count": null,
   "metadata": {
    "pycharm": {
     "is_executing": false
    }
   },
   "outputs": [],
   "source": [
    "placeholders = {}\n",
    "for wt in wave_types:\n",
    "    placeholders[wt] = WaveDataPlaceholder(\n",
    "        wt,\n",
    "        test_seismic[wt][\"rays\"],\n",
    "        test_seismic[wt][\"seismogram\"]\n",
    "    )"
   ]
  },
  {
   "cell_type": "code",
   "execution_count": null,
   "metadata": {
    "pycharm": {
     "is_executing": false
    }
   },
   "outputs": [],
   "source": [
    "optimizers = [\n",
    "    LBFGSBOptimization(\n",
    "        maxiter=15000,\n",
    "        maxfun=15000,\n",
    "        factr=10000,\n",
    "        maxls=50,\n",
    "        epsilon=0.000001\n",
    "    )\n",
    "]"
   ]
  },
  {
   "cell_type": "code",
   "execution_count": null,
   "metadata": {
    "pycharm": {
     "is_executing": false
    }
   },
   "outputs": [],
   "source": [
    "optimizers = [\n",
    "    DifferentialEvolution()\n",
    "]"
   ]
  },
  {
   "cell_type": "code",
   "execution_count": null,
   "metadata": {
    "pycharm": {
     "is_executing": false
    }
   },
   "outputs": [],
   "source": [
    "forward_params['model'].layers[0]['Km'] = 10"
   ]
  },
  {
   "cell_type": "code",
   "execution_count": null,
   "metadata": {
    "pycharm": {
     "is_executing": false
    }
   },
   "outputs": [],
   "source": [
    "forward_params['model'].layers[1]['Km'] = 25"
   ]
  },
  {
   "cell_type": "code",
   "execution_count": null,
   "metadata": {
    "pycharm": {
     "is_executing": false
    }
   },
   "outputs": [],
   "source": [
    "forward_params['model'].layers[0].rp_attribute.vals_dict['Km'][\"optimize\"] = True"
   ]
  },
  {
   "cell_type": "code",
   "execution_count": null,
   "metadata": {
    "pycharm": {
     "is_executing": false
    }
   },
   "outputs": [],
   "source": [
    "forward_params['model'].layers[1].rp_attribute.vals_dict['Km'][\"optimize\"] = True"
   ]
  },
  {
   "cell_type": "code",
   "execution_count": null,
   "metadata": {
    "pycharm": {
     "is_executing": false
    }
   },
   "outputs": [],
   "source": [
    "inversed_model = inverse(optimizers, error=0.01, placeholders=placeholders, forward_params=forward_params)"
   ]
  },
  {
   "cell_type": "code",
   "execution_count": null,
   "metadata": {
    "pycharm": {
     "is_executing": false
    }
   },
   "outputs": [],
   "source": [
    "inversed_model"
   ]
  },
  {
   "cell_type": "markdown",
   "metadata": {},
   "source": [
    "## Single variable opt"
   ]
  },
  {
   "cell_type": "code",
   "execution_count": null,
   "metadata": {
    "pycharm": {
     "is_executing": false
    }
   },
   "outputs": [],
   "source": [
    "from Inversion.Strategies.SeismDiffInversion1D import func_to_optimize"
   ]
  },
  {
   "cell_type": "code",
   "execution_count": null,
   "metadata": {
    "pycharm": {
     "is_executing": false
    }
   },
   "outputs": [],
   "source": [
    "forward_params['model'].layers[0].rp_attribute.vals_dict['Km'][\"optimize\"] = False"
   ]
  },
  {
   "cell_type": "code",
   "execution_count": null,
   "metadata": {
    "pycharm": {
     "is_executing": false
    }
   },
   "outputs": [],
   "source": [
    "forward_params['model'].layers[1].rp_attribute.vals_dict['Km'][\"optimize\"] = True"
   ]
  },
  {
   "cell_type": "code",
   "execution_count": null,
   "metadata": {
    "pycharm": {
     "is_executing": false
    }
   },
   "outputs": [],
   "source": [
    "forward_params['model'].layers[0]['Km'] = 7.3"
   ]
  },
  {
   "cell_type": "code",
   "execution_count": null,
   "metadata": {
    "pycharm": {
     "is_executing": false
    }
   },
   "outputs": [],
   "source": [
    "forward_params['model'].layers[1]['Km'] = 21.5"
   ]
  },
  {
   "cell_type": "code",
   "execution_count": null,
   "metadata": {
    "pycharm": {
     "is_executing": false
    }
   },
   "outputs": [],
   "source": [
    "forward_params['model'].get_optimization_option(\"val\", vectorize=True)"
   ]
  },
  {
   "cell_type": "code",
   "execution_count": null,
   "metadata": {
    "pycharm": {
     "is_executing": false
    }
   },
   "outputs": [],
   "source": [
    "min_val = forward_params['model'].get_optimization_option(\"min\", vectorize=True)\n",
    "max_val = forward_params['model'].get_optimization_option(\"max\", vectorize=True)"
   ]
  },
  {
   "cell_type": "code",
   "execution_count": null,
   "metadata": {
    "pycharm": {
     "is_executing": false
    }
   },
   "outputs": [],
   "source": [
    "nvals = 30"
   ]
  },
  {
   "cell_type": "code",
   "execution_count": null,
   "metadata": {
    "pycharm": {
     "is_executing": false
    }
   },
   "outputs": [],
   "source": [
    "dval = (max_val - min_val) / nvals\n",
    "\n",
    "val_x = [min_val + dval*i for i in range(nvals+1)]\n",
    "errs = []\n",
    "for val in val_x:\n",
    "    errs.append(func_to_optimize(val, placeholders, forward_params, helper=None, show_tol=False))"
   ]
  },
  {
   "cell_type": "code",
   "execution_count": null,
   "metadata": {
    "pycharm": {
     "is_executing": false
    }
   },
   "outputs": [],
   "source": [
    "plt.plot(val_x, errs)"
   ]
  },
  {
   "cell_type": "markdown",
   "metadata": {},
   "source": [
    "## Duo variable opt"
   ]
  },
  {
   "cell_type": "code",
   "execution_count": null,
   "metadata": {
    "pycharm": {
     "is_executing": false
    }
   },
   "outputs": [],
   "source": [
    "forward_params['model'].layers[1].rp_attribute.vals_dict['Km'][\"optimize\"] = True"
   ]
  },
  {
   "cell_type": "code",
   "execution_count": null,
   "metadata": {
    "pycharm": {
     "is_executing": false
    }
   },
   "outputs": [],
   "source": [
    "forward_params['model'].get_optimization_option(\"val\", vectorize=True)"
   ]
  },
  {
   "cell_type": "code",
   "execution_count": null,
   "metadata": {
    "pycharm": {
     "is_executing": false
    }
   },
   "outputs": [],
   "source": [
    "min_val = forward_params['model'].get_optimization_option(\"min\", vectorize=True)\n",
    "max_val = forward_params['model'].get_optimization_option(\"max\", vectorize=True)"
   ]
  },
  {
   "cell_type": "code",
   "execution_count": null,
   "metadata": {
    "pycharm": {
     "is_executing": false
    }
   },
   "outputs": [],
   "source": [
    "def f(x, y):\n",
    "    return np.sin(x) ** 10 + np.cos(10 + y * x) * np.cos(x)\n"
   ]
  },
  {
   "cell_type": "code",
   "execution_count": null,
   "metadata": {
    "pycharm": {
     "is_executing": false
    }
   },
   "outputs": [],
   "source": [
    "dval = (max_val - min_val) / nvals\n",
    "\n",
    "val_1_x = [min_val[0] + dval[0]*i for i in range(nvals[0]+1)]\n",
    "val_2_x = [min_val[1] + dval[1]*i for i in range(nvals[1]+1)]\n",
    "\n",
    "X, Y = np.meshgrid(val_1_x, val_2_x)\n",
    "\n",
    "Z = optimization_func_2D(X, Y)"
   ]
  },
  {
   "cell_type": "code",
   "execution_count": null,
   "metadata": {
    "pycharm": {
     "is_executing": false
    }
   },
   "outputs": [],
   "source": [
    "Z.shape"
   ]
  },
  {
   "cell_type": "code",
   "execution_count": null,
   "metadata": {
    "pycharm": {
     "is_executing": false
    }
   },
   "outputs": [],
   "source": [
    "X.shape"
   ]
  },
  {
   "cell_type": "code",
   "execution_count": null,
   "metadata": {
    "pycharm": {
     "is_executing": false
    }
   },
   "outputs": [],
   "source": [
    "plt.contourf(X, Y, Z, 10, cmap='cool')\n",
    "plt.colorbar()"
   ]
  },
  {
   "cell_type": "markdown",
   "metadata": {},
   "source": [
    "# 3-layered model"
   ]
  },
  {
   "cell_type": "code",
   "execution_count": 31,
   "metadata": {
    "pycharm": {
     "is_executing": false
    }
   },
   "outputs": [],
   "source": [
    "h = 1000"
   ]
  },
  {
   "cell_type": "code",
   "execution_count": 32,
   "metadata": {
    "pycharm": {
     "is_executing": false
    }
   },
   "outputs": [],
   "source": [
    "layer_1_dict, layer_2_dict, layer_3_dict = get_model_3layered_fluid_rp_dicts()"
   ]
  },
  {
   "cell_type": "code",
   "execution_count": 33,
   "metadata": {
    "pycharm": {
     "is_executing": false
    }
   },
   "outputs": [],
   "source": [
    "layer_3_1 = Layer1D(h,\n",
    "                  rp_attribute=RockPhysicsAttribute(layer_1_dict[\"components\"], layer_1_dict[\"name\"]),\n",
    "                  seism_attribute=None,\n",
    "                  opt=LayerOPT.RP)\n",
    "\n",
    "layer_3_2 = Layer1D(h,\n",
    "                  rp_attribute=RockPhysicsAttribute(layer_2_dict[\"components\"], layer_2_dict[\"name\"]),\n",
    "                  seism_attribute=None,\n",
    "                  opt=LayerOPT.RP)\n",
    "\n",
    "layer_3_3= Layer1D(-1,\n",
    "                  rp_attribute=RockPhysicsAttribute(layer_3_dict[\"components\"], layer_2_dict[\"name\"]),\n",
    "                  seism_attribute=None,\n",
    "                  opt=LayerOPT.RP)"
   ]
  },
  {
   "cell_type": "code",
   "execution_count": 34,
   "metadata": {
    "pycharm": {
     "is_executing": false
    }
   },
   "outputs": [],
   "source": [
    "dx = 300\n",
    "nx = 5\n",
    "x_rec = [i * dx for i in range(1, nx+1)]\n",
    "# wave_types = [OWT.PdPu]\n",
    "wave_types = [OWT.PdPu, OWT.PdSVu]"
   ]
  },
  {
   "cell_type": "code",
   "execution_count": 35,
   "metadata": {
    "pycharm": {
     "is_executing": false
    }
   },
   "outputs": [],
   "source": [
    "model_3l = SeismicModel1D([layer_3_1, layer_3_2, layer_3_3])"
   ]
  },
  {
   "cell_type": "code",
   "execution_count": 36,
   "metadata": {
    "pycharm": {
     "is_executing": false
    }
   },
   "outputs": [
    {
     "traceback": [
      "\u001b[0;31m---------------------------------------------------------------------------\u001b[0m",
      "\u001b[0;31mKeyboardInterrupt\u001b[0m                         Traceback (most recent call last)",
      "\u001b[0;32m<ipython-input-36-f34004ae4d72>\u001b[0m in \u001b[0;36m<module>\u001b[0;34m\u001b[0m\n\u001b[1;32m      3\u001b[0m     forward_with_trace_calcing(model_3l, x_rec,\n\u001b[1;32m      4\u001b[0m                                \u001b[0mdt\u001b[0m\u001b[0;34m=\u001b[0m\u001b[0;36m3e-03\u001b[0m\u001b[0;34m,\u001b[0m \u001b[0mtrace_len\u001b[0m\u001b[0;34m=\u001b[0m\u001b[0;36m1500\u001b[0m\u001b[0;34m,\u001b[0m \u001b[0mwavetypes\u001b[0m\u001b[0;34m=\u001b[0m\u001b[0mwave_types\u001b[0m\u001b[0;34m,\u001b[0m \u001b[0mdisplay_stat\u001b[0m\u001b[0;34m=\u001b[0m\u001b[0;32mTrue\u001b[0m\u001b[0;34m,\u001b[0m\u001b[0;34m\u001b[0m\u001b[0;34m\u001b[0m\u001b[0m\n\u001b[0;32m----> 5\u001b[0;31m         visualize_res=False)\n\u001b[0m\u001b[1;32m      6\u001b[0m \u001b[0;34m\u001b[0m\u001b[0m\n",
      "\u001b[0;32m~/workspace/rpsi_proj/rpsi/ForwardModeling/ForwardProcessing1D.py\u001b[0m in \u001b[0;36mforward_with_trace_calcing\u001b[0;34m(model, x_rec, dt, trace_len, wavetypes, display_stat, visualize_res, visualize_seismograms)\u001b[0m\n\u001b[1;32m    144\u001b[0m                                visualize_seismograms=False):\n\u001b[1;32m    145\u001b[0m \u001b[0;34m\u001b[0m\u001b[0m\n\u001b[0;32m--> 146\u001b[0;31m     \u001b[0mobserve\u001b[0m\u001b[0;34m,\u001b[0m \u001b[0mrays\u001b[0m \u001b[0;34m=\u001b[0m \u001b[0mforward\u001b[0m\u001b[0;34m(\u001b[0m\u001b[0mmodel\u001b[0m\u001b[0;34m,\u001b[0m \u001b[0mx_rec\u001b[0m\u001b[0;34m,\u001b[0m \u001b[0mwavetypes\u001b[0m\u001b[0;34m,\u001b[0m \u001b[0mdisplay_stat\u001b[0m\u001b[0;34m=\u001b[0m\u001b[0mdisplay_stat\u001b[0m\u001b[0;34m,\u001b[0m \u001b[0mvisualize_res\u001b[0m\u001b[0;34m=\u001b[0m\u001b[0mvisualize_res\u001b[0m\u001b[0;34m,\u001b[0m\u001b[0;34m)\u001b[0m\u001b[0;34m\u001b[0m\u001b[0;34m\u001b[0m\u001b[0m\n\u001b[0m\u001b[1;32m    147\u001b[0m \u001b[0;34m\u001b[0m\u001b[0m\n\u001b[1;32m    148\u001b[0m     \u001b[0mres_seismic\u001b[0m \u001b[0;34m=\u001b[0m \u001b[0;34m{\u001b[0m\u001b[0;34m}\u001b[0m\u001b[0;34m\u001b[0m\u001b[0;34m\u001b[0m\u001b[0m\n",
      "\u001b[0;32m~/workspace/rpsi_proj/rpsi/ForwardModeling/ForwardProcessing1D.py\u001b[0m in \u001b[0;36mforward\u001b[0;34m(model, x_rec, wavetypes, display_stat, visualize_res, noise)\u001b[0m\n\u001b[1;32m     44\u001b[0m     '''\n\u001b[1;32m     45\u001b[0m \u001b[0;34m\u001b[0m\u001b[0m\n\u001b[0;32m---> 46\u001b[0;31m     \u001b[0;32mif\u001b[0m \u001b[0mdisplay_stat\u001b[0m\u001b[0;34m:\u001b[0m\u001b[0;34m\u001b[0m\u001b[0;34m\u001b[0m\u001b[0m\n\u001b[0m\u001b[1;32m     47\u001b[0m         \u001b[0mdisp_func\u001b[0m \u001b[0;34m=\u001b[0m \u001b[0;32mlambda\u001b[0m \u001b[0mx\u001b[0m\u001b[0;34m:\u001b[0m \u001b[0mprint\u001b[0m\u001b[0;34m(\u001b[0m\u001b[0mx\u001b[0m\u001b[0;34m)\u001b[0m\u001b[0;34m\u001b[0m\u001b[0;34m\u001b[0m\u001b[0m\n\u001b[1;32m     48\u001b[0m \u001b[0;34m\u001b[0m\u001b[0m\n",
      "\u001b[0;32m~/workspace/rpsi_proj/rpsi/ForwardModeling/ForwardProcessing1D.py\u001b[0m in \u001b[0;36mforward\u001b[0;34m(model, x_rec, wavetypes, display_stat, visualize_res, noise)\u001b[0m\n\u001b[1;32m     44\u001b[0m     '''\n\u001b[1;32m     45\u001b[0m \u001b[0;34m\u001b[0m\u001b[0m\n\u001b[0;32m---> 46\u001b[0;31m     \u001b[0;32mif\u001b[0m \u001b[0mdisplay_stat\u001b[0m\u001b[0;34m:\u001b[0m\u001b[0;34m\u001b[0m\u001b[0;34m\u001b[0m\u001b[0m\n\u001b[0m\u001b[1;32m     47\u001b[0m         \u001b[0mdisp_func\u001b[0m \u001b[0;34m=\u001b[0m \u001b[0;32mlambda\u001b[0m \u001b[0mx\u001b[0m\u001b[0;34m:\u001b[0m \u001b[0mprint\u001b[0m\u001b[0;34m(\u001b[0m\u001b[0mx\u001b[0m\u001b[0;34m)\u001b[0m\u001b[0;34m\u001b[0m\u001b[0;34m\u001b[0m\u001b[0m\n\u001b[1;32m     48\u001b[0m \u001b[0;34m\u001b[0m\u001b[0m\n",
      "\u001b[0;32m~/pycharm-professional-2019.2.3/pycharm-2019.2.3/helpers/pydev/_pydevd_bundle/pydevd_frame.py\u001b[0m in \u001b[0;36mtrace_dispatch\u001b[0;34m(self, frame, event, arg)\u001b[0m\n\u001b[1;32m    675\u001b[0m                 \u001b[0;31m# if thread has a suspend flag, we suspend with a busy wait\u001b[0m\u001b[0;34m\u001b[0m\u001b[0;34m\u001b[0m\u001b[0;34m\u001b[0m\u001b[0m\n\u001b[1;32m    676\u001b[0m                 \u001b[0;32mif\u001b[0m \u001b[0minfo\u001b[0m\u001b[0;34m.\u001b[0m\u001b[0mpydev_state\u001b[0m \u001b[0;34m==\u001b[0m \u001b[0mSTATE_SUSPEND\u001b[0m\u001b[0;34m:\u001b[0m\u001b[0;34m\u001b[0m\u001b[0;34m\u001b[0m\u001b[0m\n\u001b[0;32m--> 677\u001b[0;31m                     \u001b[0mself\u001b[0m\u001b[0;34m.\u001b[0m\u001b[0mdo_wait_suspend\u001b[0m\u001b[0;34m(\u001b[0m\u001b[0mthread\u001b[0m\u001b[0;34m,\u001b[0m \u001b[0mframe\u001b[0m\u001b[0;34m,\u001b[0m \u001b[0mevent\u001b[0m\u001b[0;34m,\u001b[0m \u001b[0marg\u001b[0m\u001b[0;34m)\u001b[0m\u001b[0;34m\u001b[0m\u001b[0;34m\u001b[0m\u001b[0m\n\u001b[0m\u001b[1;32m    678\u001b[0m                     \u001b[0;31m# No need to reset frame.f_trace to keep the same trace function.\u001b[0m\u001b[0;34m\u001b[0m\u001b[0;34m\u001b[0m\u001b[0;34m\u001b[0m\u001b[0m\n\u001b[1;32m    679\u001b[0m                     \u001b[0;32mreturn\u001b[0m \u001b[0mself\u001b[0m\u001b[0;34m.\u001b[0m\u001b[0mtrace_dispatch\u001b[0m\u001b[0;34m\u001b[0m\u001b[0;34m\u001b[0m\u001b[0m\n",
      "\u001b[0;32m~/pycharm-professional-2019.2.3/pycharm-2019.2.3/helpers/pydev/_pydevd_bundle/pydevd_frame.py\u001b[0m in \u001b[0;36mdo_wait_suspend\u001b[0;34m(self, *args, **kwargs)\u001b[0m\n\u001b[1;32m    132\u001b[0m \u001b[0;34m\u001b[0m\u001b[0m\n\u001b[1;32m    133\u001b[0m     \u001b[0;32mdef\u001b[0m \u001b[0mdo_wait_suspend\u001b[0m\u001b[0;34m(\u001b[0m\u001b[0mself\u001b[0m\u001b[0;34m,\u001b[0m \u001b[0;34m*\u001b[0m\u001b[0margs\u001b[0m\u001b[0;34m,\u001b[0m \u001b[0;34m**\u001b[0m\u001b[0mkwargs\u001b[0m\u001b[0;34m)\u001b[0m\u001b[0;34m:\u001b[0m\u001b[0;34m\u001b[0m\u001b[0;34m\u001b[0m\u001b[0m\n\u001b[0;32m--> 134\u001b[0;31m         \u001b[0mself\u001b[0m\u001b[0;34m.\u001b[0m\u001b[0m_args\u001b[0m\u001b[0;34m[\u001b[0m\u001b[0;36m0\u001b[0m\u001b[0;34m]\u001b[0m\u001b[0;34m.\u001b[0m\u001b[0mdo_wait_suspend\u001b[0m\u001b[0;34m(\u001b[0m\u001b[0;34m*\u001b[0m\u001b[0margs\u001b[0m\u001b[0;34m,\u001b[0m \u001b[0;34m**\u001b[0m\u001b[0mkwargs\u001b[0m\u001b[0;34m)\u001b[0m\u001b[0;34m\u001b[0m\u001b[0;34m\u001b[0m\u001b[0m\n\u001b[0m\u001b[1;32m    135\u001b[0m \u001b[0;34m\u001b[0m\u001b[0m\n\u001b[1;32m    136\u001b[0m     \u001b[0;31m# IFDEF CYTHON\u001b[0m\u001b[0;34m\u001b[0m\u001b[0;34m\u001b[0m\u001b[0;34m\u001b[0m\u001b[0m\n",
      "\u001b[0;32m~/pycharm-professional-2019.2.3/pycharm-2019.2.3/helpers/pydev/pydevd.py\u001b[0m in \u001b[0;36mdo_wait_suspend\u001b[0;34m(self, thread, frame, event, arg, send_suspend_message, is_unhandled_exception)\u001b[0m\n\u001b[1;32m   1086\u001b[0m \u001b[0;34m\u001b[0m\u001b[0m\n\u001b[1;32m   1087\u001b[0m         \u001b[0;32mwith\u001b[0m \u001b[0mself\u001b[0m\u001b[0;34m.\u001b[0m\u001b[0m_threads_suspended_single_notification\u001b[0m\u001b[0;34m.\u001b[0m\u001b[0mnotify_thread_suspended\u001b[0m\u001b[0;34m(\u001b[0m\u001b[0mthread_id\u001b[0m\u001b[0;34m,\u001b[0m \u001b[0mstop_reason\u001b[0m\u001b[0;34m)\u001b[0m\u001b[0;34m:\u001b[0m\u001b[0;34m\u001b[0m\u001b[0;34m\u001b[0m\u001b[0m\n\u001b[0;32m-> 1088\u001b[0;31m             \u001b[0mself\u001b[0m\u001b[0;34m.\u001b[0m\u001b[0m_do_wait_suspend\u001b[0m\u001b[0;34m(\u001b[0m\u001b[0mthread\u001b[0m\u001b[0;34m,\u001b[0m \u001b[0mframe\u001b[0m\u001b[0;34m,\u001b[0m \u001b[0mevent\u001b[0m\u001b[0;34m,\u001b[0m \u001b[0marg\u001b[0m\u001b[0;34m,\u001b[0m \u001b[0msuspend_type\u001b[0m\u001b[0;34m,\u001b[0m \u001b[0mfrom_this_thread\u001b[0m\u001b[0;34m)\u001b[0m\u001b[0;34m\u001b[0m\u001b[0;34m\u001b[0m\u001b[0m\n\u001b[0m\u001b[1;32m   1089\u001b[0m \u001b[0;34m\u001b[0m\u001b[0m\n\u001b[1;32m   1090\u001b[0m     \u001b[0;32mdef\u001b[0m \u001b[0m_do_wait_suspend\u001b[0m\u001b[0;34m(\u001b[0m\u001b[0mself\u001b[0m\u001b[0;34m,\u001b[0m \u001b[0mthread\u001b[0m\u001b[0;34m,\u001b[0m \u001b[0mframe\u001b[0m\u001b[0;34m,\u001b[0m \u001b[0mevent\u001b[0m\u001b[0;34m,\u001b[0m \u001b[0marg\u001b[0m\u001b[0;34m,\u001b[0m \u001b[0msuspend_type\u001b[0m\u001b[0;34m,\u001b[0m \u001b[0mfrom_this_thread\u001b[0m\u001b[0;34m)\u001b[0m\u001b[0;34m:\u001b[0m\u001b[0;34m\u001b[0m\u001b[0;34m\u001b[0m\u001b[0m\n",
      "\u001b[0;32m~/pycharm-professional-2019.2.3/pycharm-2019.2.3/helpers/pydev/pydevd.py\u001b[0m in \u001b[0;36m_do_wait_suspend\u001b[0;34m(self, thread, frame, event, arg, suspend_type, from_this_thread)\u001b[0m\n\u001b[1;32m   1101\u001b[0m \u001b[0;34m\u001b[0m\u001b[0m\n\u001b[1;32m   1102\u001b[0m                 \u001b[0mself\u001b[0m\u001b[0;34m.\u001b[0m\u001b[0mprocess_internal_commands\u001b[0m\u001b[0;34m(\u001b[0m\u001b[0;34m)\u001b[0m\u001b[0;34m\u001b[0m\u001b[0;34m\u001b[0m\u001b[0m\n\u001b[0;32m-> 1103\u001b[0;31m                 \u001b[0mtime\u001b[0m\u001b[0;34m.\u001b[0m\u001b[0msleep\u001b[0m\u001b[0;34m(\u001b[0m\u001b[0;36m0.01\u001b[0m\u001b[0;34m)\u001b[0m\u001b[0;34m\u001b[0m\u001b[0;34m\u001b[0m\u001b[0m\n\u001b[0m\u001b[1;32m   1104\u001b[0m \u001b[0;34m\u001b[0m\u001b[0m\n\u001b[1;32m   1105\u001b[0m         \u001b[0mself\u001b[0m\u001b[0;34m.\u001b[0m\u001b[0mcancel_async_evaluation\u001b[0m\u001b[0;34m(\u001b[0m\u001b[0mget_current_thread_id\u001b[0m\u001b[0;34m(\u001b[0m\u001b[0mthread\u001b[0m\u001b[0;34m)\u001b[0m\u001b[0;34m,\u001b[0m \u001b[0mstr\u001b[0m\u001b[0;34m(\u001b[0m\u001b[0mid\u001b[0m\u001b[0;34m(\u001b[0m\u001b[0mframe\u001b[0m\u001b[0;34m)\u001b[0m\u001b[0;34m)\u001b[0m\u001b[0;34m)\u001b[0m\u001b[0;34m\u001b[0m\u001b[0;34m\u001b[0m\u001b[0m\n",
      "\u001b[0;31mKeyboardInterrupt\u001b[0m: "
     ],
     "ename": "KeyboardInterrupt",
     "evalue": "",
     "output_type": "error"
    }
   ],
   "source": [
    "observe, test_seismic = \\\n",
    "    forward_with_trace_calcing(model_3l, x_rec,\n",
    "                               dt=3e-03, trace_len=1500, wavetypes=wave_types, display_stat=True,\n",
    "        visualize_res=False)"
   ]
  },
  {
   "cell_type": "code",
   "execution_count": null,
   "metadata": {
    "pycharm": {
     "is_executing": false
    }
   },
   "outputs": [],
   "source": [
    "forward_params = {\n",
    "    \"model\": model_3l,\n",
    "    \"x_rec\": x_rec,\n",
    "    \"dt\": 3e-03,\n",
    "    \"trace_len\": 1500,\n",
    "    \"wavetypes\": wave_types,\n",
    "    \"display_stat\": False,\n",
    "    \"visualize_res\": False\n",
    "}"
   ]
  },
  {
   "cell_type": "code",
   "execution_count": null,
   "metadata": {
    "pycharm": {
     "is_executing": false
    }
   },
   "outputs": [],
   "source": [
    "placeholders = {}\n",
    "for wt in wave_types:\n",
    "    placeholders[wt] = WaveDataPlaceholder(\n",
    "        wt,\n",
    "        test_seismic[wt][\"rays\"],\n",
    "        test_seismic[wt][\"seismogram\"]\n",
    "    )"
   ]
  },
  {
   "cell_type": "code",
   "execution_count": null,
   "metadata": {
    "pycharm": {
     "is_executing": false
    }
   },
   "outputs": [],
   "source": [
    "optimizers_lbfgs = [\n",
    "    LBFGSBOptimization(\n",
    "        maxiter=15000,\n",
    "        maxfun=15000,\n",
    "#         factr=10000,\n",
    "#         maxls=50,\n",
    "#         epsilon=0.000001\n",
    "    )\n",
    "]"
   ]
  },
  {
   "cell_type": "code",
   "execution_count": null,
   "metadata": {
    "pycharm": {
     "is_executing": false
    }
   },
   "outputs": [],
   "source": [
    "optimizers_cg = [\n",
    "    ConjugateGradient()\n",
    "]"
   ]
  },
  {
   "cell_type": "code",
   "execution_count": null,
   "metadata": {
    "pycharm": {
     "is_executing": false
    }
   },
   "outputs": [],
   "source": [
    "optimizers_de = [\n",
    "    DifferentialEvolution(\n",
    "          popsize= 5,\n",
    "          maxiter= 20000,\n",
    "          init= \"latinhypercube\",\n",
    "          strategy= \"best1bin\",\n",
    "          disp= False,\n",
    "          polish= False,\n",
    "          tol= 0.00001,\n",
    "          mutation= 1.5,\n",
    "          recombination= 0.6,\n",
    "          workers= 8\n",
    "    )\n",
    "]"
   ]
  },
  {
   "cell_type": "code",
   "execution_count": null,
   "metadata": {
    "pycharm": {
     "is_executing": false
    }
   },
   "outputs": [],
   "source": [
    "optimizers_tc = [\n",
    "    TrustConstr(\n",
    "        opt_options={\n",
    "            \"initial_tr_radius\": 0.7,\n",
    "            \"maxiter\": 1000000\n",
    "#             \"gtol\":1e-4,\n",
    "        }\n",
    "    ),\n",
    "#     LBFGSBOptimization(\n",
    "#         maxiter=15000,\n",
    "#         maxfun=15000,\n",
    "#         factr=10000,\n",
    "#         maxls=50,\n",
    "#         epsilon=0.000001\n",
    "#     )\n",
    "]"
   ]
  },
  {
   "cell_type": "markdown",
   "metadata": {},
   "source": [
    "### Some model changes"
   ]
  },
  {
   "cell_type": "code",
   "execution_count": null,
   "metadata": {
    "pycharm": {
     "is_executing": false
    }
   },
   "outputs": [],
   "source": [
    "forward_params['model'].layers[0].rp_attribute.vals_dict['phi_s']['optimize'] = False\n",
    "forward_params['model'].layers[0].rp_attribute.vals_dict['Kf']['optimize'] = False\n",
    "forward_params['model'].layers[0].rp_attribute.vals_dict['rho_f']['optimize'] = False\n",
    "forward_params['model'].layers[0].rp_attribute.vals_dict['phi']['optimize'] = False\n",
    "\n",
    "forward_params['model'].layers[1].rp_attribute.vals_dict['phi_s']['optimize'] = False\n",
    "forward_params['model'].layers[1].rp_attribute.vals_dict['Kf']['optimize'] = False\n",
    "forward_params['model'].layers[1].rp_attribute.vals_dict['rho_f']['optimize'] = False\n",
    "forward_params['model'].layers[1].rp_attribute.vals_dict['phi']['optimize'] = False"
   ]
  },
  {
   "cell_type": "markdown",
   "metadata": {},
   "source": [
    "### Km optimization"
   ]
  },
  {
   "cell_type": "code",
   "execution_count": null,
   "metadata": {
    "pycharm": {
     "is_executing": false
    }
   },
   "outputs": [],
   "source": [
    "opt_flag = True\n",
    "# opt_flag = False\n",
    "if opt_flag:\n",
    "    forward_params['model'].layers[0][\"Km\"] = 9\n",
    "    forward_params['model'].layers[0].opt = LayerOPT.RP\n",
    "    forward_params['model'].layers[0].rp_attribute.vals_dict['Km']['optimize'] = True\n",
    "    \n",
    "else:\n",
    "    forward_params['model'].layers[0][\"Km\"] = 7.3\n",
    "    forward_params['model'].layers[0].opt = LayerOPT.NO\n",
    "    forward_params['model'].layers[0].rp_attribute.vals_dict['Km']['optimize'] = False\n",
    "\n",
    "opt_flag = True\n",
    "# opt_flag = False\n",
    "\n",
    "if opt_flag:\n",
    "    forward_params['model'].layers[1][\"Km\"] = 25\n",
    "    forward_params['model'].layers[1].opt = LayerOPT.RP\n",
    "    forward_params['model'].layers[1].rp_attribute.vals_dict['Km']['optimize'] = True\n",
    "\n",
    "else:\n",
    "    # TRUE VALUE\n",
    "    forward_params['model'].layers[1][\"Km\"] = 21.5\n",
    "    forward_params['model'].layers[1].opt = LayerOPT.NO\n",
    "    forward_params['model'].layers[1].rp_attribute.vals_dict['Km']['optimize'] = False\n",
    "\n",
    "\n",
    "\n",
    "# opt_flag = True\n",
    "opt_flag = False\n",
    "\n",
    "if opt_flag:\n",
    "    forward_params['model'].layers[2][\"Km\"] = 25\n",
    "    forward_params['model'].layers[2].opt = LayerOPT.RP\n",
    "    forward_params['model'].layers[2].rp_attribute.vals_dict['Km']['optimize'] = True\n",
    "\n",
    "else:\n",
    "    # TRUE VALUE\n",
    "    forward_params['model'].layers[2][\"Km\"] = 22\n",
    "    forward_params['model'].layers[2].opt = LayerOPT.NO\n",
    "    forward_params['model'].layers[2].rp_attribute.vals_dict['Km']['optimize'] = False\n",
    "\n"
   ]
  },
  {
   "cell_type": "markdown",
   "metadata": {},
   "source": [
    "### Gm optimization"
   ]
  },
  {
   "cell_type": "code",
   "execution_count": 21,
   "metadata": {
    "pycharm": {
     "is_executing": false
    }
   },
   "outputs": [
    {
     "traceback": [
      "\u001b[0;31m---------------------------------------------------------------------------\u001b[0m",
      "\u001b[0;31mNameError\u001b[0m                                 Traceback (most recent call last)",
      "\u001b[0;32m<ipython-input-21-f65c3c9bc640>\u001b[0m in \u001b[0;36m<module>\u001b[0;34m\u001b[0m\n\u001b[1;32m      7\u001b[0m \u001b[0;34m\u001b[0m\u001b[0m\n\u001b[1;32m      8\u001b[0m \u001b[0;32melse\u001b[0m\u001b[0;34m:\u001b[0m\u001b[0;34m\u001b[0m\u001b[0;34m\u001b[0m\u001b[0m\n\u001b[0;32m----> 9\u001b[0;31m     \u001b[0mforward_params\u001b[0m\u001b[0;34m[\u001b[0m\u001b[0;34m'model'\u001b[0m\u001b[0;34m]\u001b[0m\u001b[0;34m.\u001b[0m\u001b[0mlayers\u001b[0m\u001b[0;34m[\u001b[0m\u001b[0;36m0\u001b[0m\u001b[0;34m]\u001b[0m\u001b[0;34m[\u001b[0m\u001b[0;34m\"Gm\"\u001b[0m\u001b[0;34m]\u001b[0m \u001b[0;34m=\u001b[0m \u001b[0;36m2.71\u001b[0m\u001b[0;34m\u001b[0m\u001b[0;34m\u001b[0m\u001b[0m\n\u001b[0m\u001b[1;32m     10\u001b[0m     \u001b[0mforward_params\u001b[0m\u001b[0;34m[\u001b[0m\u001b[0;34m'model'\u001b[0m\u001b[0;34m]\u001b[0m\u001b[0;34m.\u001b[0m\u001b[0mlayers\u001b[0m\u001b[0;34m[\u001b[0m\u001b[0;36m0\u001b[0m\u001b[0;34m]\u001b[0m\u001b[0;34m.\u001b[0m\u001b[0mopt\u001b[0m \u001b[0;34m=\u001b[0m \u001b[0mLayerOPT\u001b[0m\u001b[0;34m.\u001b[0m\u001b[0mNO\u001b[0m\u001b[0;34m\u001b[0m\u001b[0;34m\u001b[0m\u001b[0m\n\u001b[1;32m     11\u001b[0m     \u001b[0mforward_params\u001b[0m\u001b[0;34m[\u001b[0m\u001b[0;34m'model'\u001b[0m\u001b[0;34m]\u001b[0m\u001b[0;34m.\u001b[0m\u001b[0mlayers\u001b[0m\u001b[0;34m[\u001b[0m\u001b[0;36m0\u001b[0m\u001b[0;34m]\u001b[0m\u001b[0;34m.\u001b[0m\u001b[0mrp_attribute\u001b[0m\u001b[0;34m.\u001b[0m\u001b[0mvals_dict\u001b[0m\u001b[0;34m[\u001b[0m\u001b[0;34m'Gm'\u001b[0m\u001b[0;34m]\u001b[0m\u001b[0;34m[\u001b[0m\u001b[0;34m'optimize'\u001b[0m\u001b[0;34m]\u001b[0m \u001b[0;34m=\u001b[0m \u001b[0;32mFalse\u001b[0m\u001b[0;34m\u001b[0m\u001b[0;34m\u001b[0m\u001b[0m\n",
      "\u001b[0;31mNameError\u001b[0m: name 'forward_params' is not defined"
     ],
     "ename": "NameError",
     "evalue": "name 'forward_params' is not defined",
     "output_type": "error"
    }
   ],
   "source": [
    "# opt_flag = True\n",
    "opt_flag = False\n",
    "if opt_flag:\n",
    "    forward_params['model'].layers[0][\"Gm\"] = 5\n",
    "    forward_params['model'].layers[0].opt = LayerOPT.RP\n",
    "    forward_params['model'].layers[0].rp_attribute.vals_dict['Gm']['optimize'] = True\n",
    "    \n",
    "else:\n",
    "    forward_params['model'].layers[0][\"Gm\"] = 2.71\n",
    "    forward_params['model'].layers[0].opt = LayerOPT.NO\n",
    "    forward_params['model'].layers[0].rp_attribute.vals_dict['Gm']['optimize'] = False\n",
    "\n",
    "# opt_flag = True\n",
    "opt_flag = False\n",
    "\n",
    "if opt_flag:\n",
    "    forward_params['model'].layers[1][\"Gm\"] = 15\n",
    "    forward_params['model'].layers[1].opt = LayerOPT.RP\n",
    "    forward_params['model'].layers[1].rp_attribute.vals_dict['Gm']['optimize'] = True\n",
    "\n",
    "else:\n",
    "    # TRUE VALUE\n",
    "    forward_params['model'].layers[1][\"Gm\"] = 17.5\n",
    "    forward_params['model'].layers[1].opt = LayerOPT.NO\n",
    "    forward_params['model'].layers[1].rp_attribute.vals_dict['Gm']['optimize'] = False\n",
    "\n",
    "\n",
    "\n",
    "# opt_flag = True\n",
    "opt_flag = False\n",
    "\n",
    "if opt_flag:\n",
    "    forward_params['model'].layers[2][\"Gm\"] = 15\n",
    "    forward_params['model'].layers[2].opt = LayerOPT.RP\n",
    "    forward_params['model'].layers[2].rp_attribute.vals_dict['Gm']['optimize'] = True\n",
    "\n",
    "else:\n",
    "    # TRUE VALUE\n",
    "    forward_params['model'].layers[2][\"Gm\"] = 10.7\n",
    "    forward_params['model'].layers[2].opt = LayerOPT.NO\n",
    "    forward_params['model'].layers[2].rp_attribute.vals_dict['Gm']['optimize'] = False\n",
    "\n"
   ]
  },
  {
   "cell_type": "markdown",
   "metadata": {},
   "source": [
    "## Model calcing"
   ]
  },
  {
   "cell_type": "code",
   "execution_count": null,
   "metadata": {
    "pycharm": {
     "is_executing": false
    }
   },
   "outputs": [],
   "source": [
    "forward_params['model'].get_optimization_option('val')"
   ]
  },
  {
   "cell_type": "code",
   "execution_count": null,
   "metadata": {
    "scrolled": true,
    "pycharm": {
     "is_executing": false
    }
   },
   "outputs": [],
   "source": [
    "# scale=\"minmax\"\n",
    "scale=None\n",
    "start_time = time.time()\n",
    "# optimizers_tc[0].opt_options[\"finite_diff_rel_step\"] = 0.1\n",
    "inversed_model = inverse(optimizers_tc, error=0.07, placeholders=placeholders, forward_params=forward_params, scale=scale)\n",
    "print(f\"TC time: {time.time() - start_time}\")"
   ]
  },
  {
   "cell_type": "code",
   "execution_count": null,
   "metadata": {
    "scrolled": true,
    "pycharm": {
     "is_executing": false
    }
   },
   "outputs": [],
   "source": [
    "# scale=\"minmax\"\n",
    "scale=None\n",
    "start_time = time.time()\n",
    "inversed_model = inverse(optimizers_de, error=0.01, placeholders=placeholders, forward_params=forward_params, scale=scale)\n",
    "print(f\"DE time: {time.time() - start_time}\")"
   ]
  },
  {
   "cell_type": "code",
   "execution_count": null,
   "metadata": {
    "pycharm": {
     "is_executing": false
    }
   },
   "outputs": [],
   "source": [
    "forward_params['model'].get_optimization_option(\"val\", vectorize=True)"
   ]
  },
  {
   "cell_type": "code",
   "execution_count": null,
   "metadata": {
    "pycharm": {
     "is_executing": false
    }
   },
   "outputs": [],
   "source": [
    "inversed_model"
   ]
  },
  {
   "cell_type": "code",
   "execution_count": null,
   "metadata": {
    "pycharm": {
     "is_executing": false
    }
   },
   "outputs": [],
   "source": [
    "plot_1D_err(forward_params, 100, vline_x=inversed_model)"
   ]
  },
  {
   "cell_type": "code",
   "execution_count": null,
   "metadata": {
    "pycharm": {
     "is_executing": false
    }
   },
   "outputs": [],
   "source": [
    "plot_2D_err(forward_params, [5, 5], 20, points=[[inversed_model[0]], [inversed_model[1]]])"
   ]
  },
  {
   "cell_type": "code",
   "execution_count": null,
   "metadata": {
    "pycharm": {
     "is_executing": false
    }
   },
   "outputs": [],
   "source": [
    "res = forward_with_trace_calcing(forward_params['model'], forward_params['x_rec'], \n",
    "                           dt=forward_params['dt'], \n",
    "                           trace_len=forward_params['trace_len'], \n",
    "                           wavetypes=forward_params['wavetypes'],\n",
    "            display_stat=True, visualize_res=False,\n",
    "                               visualize_seismograms=True\n",
    "            )"
   ]
  },
  {
   "cell_type": "code",
   "execution_count": null,
   "metadata": {
    "pycharm": {
     "is_executing": false
    }
   },
   "outputs": [],
   "source": []
  },
  {
   "cell_type": "code",
   "execution_count": null,
   "metadata": {
    "pycharm": {
     "is_executing": false
    }
   },
   "outputs": [],
   "source": [
    "inversed_model"
   ]
  }
 ],
 "metadata": {
  "kernelspec": {
   "display_name": "rpsi",
   "language": "python",
   "name": "rpsi"
  },
  "language_info": {
   "codemirror_mode": {
    "name": "ipython",
    "version": 3
   },
   "file_extension": ".py",
   "mimetype": "text/x-python",
   "name": "python",
   "nbconvert_exporter": "python",
   "pygments_lexer": "ipython3",
   "version": "3.7.3"
  },
  "pycharm": {
   "stem_cell": {
    "cell_type": "raw",
    "source": [],
    "metadata": {
     "collapsed": false
    }
   }
  }
 },
 "nbformat": 4,
 "nbformat_minor": 2
}