{
 "cells": [
  {
   "cell_type": "code",
   "execution_count": 1,
   "metadata": {},
   "outputs": [],
   "source": [
    "import sys\n",
    "sys.path.append('../')"
   ]
  },
  {
   "cell_type": "code",
   "execution_count": 2,
   "metadata": {},
   "outputs": [],
   "source": [
    "import numpy as np"
   ]
  },
  {
   "cell_type": "code",
   "execution_count": 3,
   "metadata": {},
   "outputs": [],
   "source": [
    "from ForwardModeling.ForwardProcessing1D import forward_with_trace_calcing\n",
    "from Inversion.Strategies.SeismDiffInversion1D import inverse\n",
    "from Inversion.Optimizators.Optimizations import LBFGSBOptimization, DifferentialEvolution\n",
    "from Tests.test_ForwardProcessing1D import get_model_2layered, get_model_3layered\n",
    "from Objects.Data.WavePlaceholder import OWT, WaveDataPlaceholder\n",
    "from Objects.Models.Models import SeismicModel1D\n",
    "from Objects.Attributes.RockPhysics.RockPhysicsAttribute import RockPhysicsAttribute\n",
    "from Objects.Models.Layer1D import Layer1D, LayerOPT"
   ]
  },
  {
   "cell_type": "code",
   "execution_count": 4,
   "metadata": {},
   "outputs": [],
   "source": [
    "from matplotlib import pyplot as plt"
   ]
  },
  {
   "cell_type": "code",
   "execution_count": 5,
   "metadata": {},
   "outputs": [],
   "source": [
    "layer_1_dict, layer_2_dict, layer_3_dict = get_model_3layered()\n",
    "h = 500"
   ]
  },
  {
   "cell_type": "code",
   "execution_count": 6,
   "metadata": {},
   "outputs": [],
   "source": [
    "from Inversion.Strategies.SeismDiffInversion1D import func_to_optimize"
   ]
  },
  {
   "cell_type": "code",
   "execution_count": 71,
   "metadata": {},
   "outputs": [],
   "source": [
    "def plot_1D_err(forward_params, nvals, min_max=None):\n",
    "    \n",
    "    if min_max is None:\n",
    "        min_val = forward_params['model'].get_optimization_option(\"min\", vectorize=True)\n",
    "        max_val = forward_params['model'].get_optimization_option(\"max\", vectorize=True)\n",
    "        \n",
    "    else:\n",
    "        min_val = np.array([min_max[0]])\n",
    "        max_val = np.array([min_max[1]])\n",
    "    \n",
    "    dval = (max_val - min_val) / nvals\n",
    "\n",
    "    val_x = [min_val + dval*i for i in range(nvals+1)]\n",
    "    errs = []\n",
    "    for val in val_x:\n",
    "        errs.append(func_to_optimize(val, placeholders, forward_params, helper=None, show_tol=False))\n",
    "        \n",
    "    plt.plot(val_x, errs)\n",
    "    plt.plot(val_x, errs, 'o')\n",
    "        \n",
    "    plt.show()"
   ]
  },
  {
   "cell_type": "code",
   "execution_count": null,
   "metadata": {},
   "outputs": [],
   "source": [
    "def get_param_int_values()"
   ]
  },
  {
   "cell_type": "code",
   "execution_count": 8,
   "metadata": {},
   "outputs": [],
   "source": [
    "def optimization_func_2D(forward_params, x, y):\n",
    "    indexes_1 = np.arange(x.shape[0])\n",
    "    indexes_2 = np.arange(x.shape[1])\n",
    "    \n",
    "    Z = np.zeros((x.shape[0], x.shape[1]))\n",
    "    \n",
    "    for ind1 in indexes_1:\n",
    "        for ind2 in indexes_2:\n",
    "            Z[ind1, ind2] = func_to_optimize([x[ind1, ind2], y[ind1, ind2]], placeholders, forward_params, helper=None, show_tol=False)\n",
    "        \n",
    "    return Z"
   ]
  },
  {
   "cell_type": "code",
   "execution_count": 9,
   "metadata": {},
   "outputs": [],
   "source": [
    "def plot_2D_err(forward_params, nvals, ncontous=10):\n",
    "    min_val = forward_params['model'].get_optimization_option(\"min\", vectorize=True)\n",
    "    max_val = forward_params['model'].get_optimization_option(\"max\", vectorize=True)\n",
    "    \n",
    "    dval = (max_val - min_val) / nvals\n",
    "\n",
    "    val_1_x = [min_val[0] + dval[0]*i for i in range(nvals[0]+1)]\n",
    "    val_2_x = [min_val[1] + dval[1]*i for i in range(nvals[1]+1)]\n",
    "\n",
    "    X, Y = np.meshgrid(val_1_x, val_2_x)\n",
    "\n",
    "    Z = optimization_func_2D(forward_params, X, Y)\n",
    "    \n",
    "    plt.contourf(X, Y, Z, ncontous, cmap='cool')\n",
    "    plt.colorbar()"
   ]
  },
  {
   "cell_type": "markdown",
   "metadata": {},
   "source": [
    "# 2-layered model"
   ]
  },
  {
   "cell_type": "code",
   "execution_count": 10,
   "metadata": {},
   "outputs": [],
   "source": [
    "layer_1 = Layer1D(h,\n",
    "                  rp_attribute=RockPhysicsAttribute(layer_1_dict[\"components\"], layer_1_dict[\"name\"]),\n",
    "                  seism_attribute=None,\n",
    "                  opt=LayerOPT.RP)\n",
    "\n",
    "layer_2 = Layer1D(-1,\n",
    "                  rp_attribute=RockPhysicsAttribute(layer_2_dict[\"components\"], layer_2_dict[\"name\"]),\n",
    "                  seism_attribute=None,\n",
    "                  opt=LayerOPT.RP)"
   ]
  },
  {
   "cell_type": "code",
   "execution_count": 11,
   "metadata": {},
   "outputs": [],
   "source": [
    "dx = 100\n",
    "nx = 20\n",
    "x_rec = [i * dx for i in range(1, nx)]\n",
    "wave_types = [OWT.PdPu]"
   ]
  },
  {
   "cell_type": "code",
   "execution_count": 12,
   "metadata": {},
   "outputs": [],
   "source": [
    "model = SeismicModel1D([layer_1, layer_2])\n",
    "model_true = SeismicModel1D([layer_1, layer_2])\n",
    "model_opt = SeismicModel1D([layer_1, layer_2])"
   ]
  },
  {
   "cell_type": "code",
   "execution_count": 13,
   "metadata": {},
   "outputs": [
    {
     "name": "stdout",
     "output_type": "stream",
     "text": [
      "Calculating rockphysics model...\n",
      "Rockphysics model calculated!\n",
      "Calculating PdPu-rays...\n",
      "Calculating PdPu-reflections...\n",
      "Calculating p-refractions...\n"
     ]
    }
   ],
   "source": [
    "observe, test_seismic = \\\n",
    "    forward_with_trace_calcing(model, x_rec,\n",
    "                               dt=3e-03, trace_len=1500, wavetypes=wave_types, display_stat=True,\n",
    "        visualize_res=False)"
   ]
  },
  {
   "cell_type": "code",
   "execution_count": 14,
   "metadata": {},
   "outputs": [],
   "source": [
    "forward_params = {\n",
    "    \"model\": model,\n",
    "    \"x_rec\": x_rec,\n",
    "    \"dt\": 3e-03,\n",
    "    \"trace_len\": 1500,\n",
    "    \"wavetypes\": wave_types,\n",
    "    \"display_stat\": False,\n",
    "    \"visualize_res\": False\n",
    "}"
   ]
  },
  {
   "cell_type": "code",
   "execution_count": 10,
   "metadata": {},
   "outputs": [],
   "source": [
    "placeholders = {}\n",
    "for wt in wave_types:\n",
    "    placeholders[wt] = WaveDataPlaceholder(\n",
    "        wt,\n",
    "        test_seismic[wt][\"rays\"],\n",
    "        test_seismic[wt][\"seismogram\"]\n",
    "    )"
   ]
  },
  {
   "cell_type": "code",
   "execution_count": 21,
   "metadata": {},
   "outputs": [],
   "source": [
    "optimizers = [\n",
    "    LBFGSBOptimization(\n",
    "        maxiter=15000,\n",
    "        maxfun=15000,\n",
    "        factr=10000,\n",
    "        maxls=50,\n",
    "        epsilon=0.000001\n",
    "    )\n",
    "]"
   ]
  },
  {
   "cell_type": "code",
   "execution_count": 132,
   "metadata": {},
   "outputs": [],
   "source": [
    "optimizers = [\n",
    "    DifferentialEvolution()\n",
    "]"
   ]
  },
  {
   "cell_type": "code",
   "execution_count": 133,
   "metadata": {},
   "outputs": [],
   "source": [
    "forward_params['model'].layers[0]['Km'] = 10"
   ]
  },
  {
   "cell_type": "code",
   "execution_count": 134,
   "metadata": {},
   "outputs": [],
   "source": [
    "forward_params['model'].layers[1]['Km'] = 25"
   ]
  },
  {
   "cell_type": "code",
   "execution_count": 135,
   "metadata": {},
   "outputs": [],
   "source": [
    "forward_params['model'].layers[0].rp_attribute.vals_dict['Km'][\"optimize\"] = True"
   ]
  },
  {
   "cell_type": "code",
   "execution_count": 136,
   "metadata": {},
   "outputs": [],
   "source": [
    "forward_params['model'].layers[1].rp_attribute.vals_dict['Km'][\"optimize\"] = True"
   ]
  },
  {
   "cell_type": "code",
   "execution_count": 139,
   "metadata": {},
   "outputs": [
    {
     "name": "stdout",
     "output_type": "stream",
     "text": [
      "0.28963981555513735\n",
      "0.24318202245426948\n",
      "0.3036591384718607\n",
      "0.2681994770851526\n",
      "0.3158887885125874\n",
      "0.11733143944421526\n",
      "0.23793330149363667\n",
      "0.1928839756728753\n",
      "0.3190887519398826\n",
      "0.22500372786123748\n",
      "0.24119477271271672\n",
      "0.23933181656513197\n",
      "0.20139060678181012\n",
      "0.2170747273431636\n",
      "0.05231358982842281\n",
      "0.2039342095252275\n",
      "0.06495235257187576\n",
      "0.28911024162799975\n",
      "0.14736149433550547\n",
      "0.04847486972811233\n",
      "0.32747266041135775\n",
      "0.22567450699539163\n",
      "0.1897540988256148\n",
      "0.29991395966586487\n",
      "0.16389648856082809\n",
      "0.2046265374964593\n",
      "0.3453497955095944\n",
      "0.34798394179843034\n",
      "0.30995865653319915\n",
      "0.23070859734782234\n",
      "0.3554557834285149\n",
      "0.09506400783975795\n",
      "0.19379078437235014\n",
      "0.2692708845884677\n",
      "0.3373489632757625\n",
      "0.2479217271179494\n",
      "0.2365875651460144\n",
      "0.28514604481474237\n",
      "0.23422753430183002\n",
      "0.35055564728627425\n",
      "0.21292978534022688\n",
      "0.11371672695670602\n",
      "0.04699641873161136\n",
      "0.2235219582602103\n",
      "0.23899108129730584\n",
      "0.15485987233380266\n",
      "0.18928561374821\n",
      "0.369617913270291\n",
      "0.2273681507180174\n",
      "0.21342626667854356\n",
      "0.30853361416511155\n",
      "0.2464991734223232\n",
      "0.19214253302290746\n",
      "0.33016933186091435\n",
      "0.03191359039588317\n",
      "0.0698222423412374\n",
      "0.20680812667171372\n",
      "0.20889723672531169\n",
      "0.20962900484204103\n",
      "0.11722013572384311\n",
      "0.192919225346959\n",
      "0.34682848604072797\n",
      "0.009809319481006187\n",
      "0.29386124838089767\n",
      "0.2950748475401458\n",
      "0.199620733396183\n",
      "0.29963846305014713\n",
      "0.19836455159150174\n",
      "0.2215073106634892\n",
      "0.21758752343815266\n",
      "0.24117052175197112\n",
      "0.28311546784998265\n",
      "0.03685633283044753\n",
      "0.2093644898596543\n",
      "0.32545024267634326\n",
      "0.22302856499217144\n",
      "0.2257701995331992\n",
      "0.14514310870462221\n",
      "0.261639041226229\n",
      "0.19594834045456108\n",
      "0.278795691550664\n",
      "0.22562435122759897\n",
      "0.35840585535380626\n",
      "0.0880644468560601\n",
      "0.04303008133267849\n",
      "0.0474562030165143\n",
      "0.202465858262039\n",
      "0.29735443073000356\n",
      "0.3381393482946232\n",
      "0.3278565675135762\n",
      "0.021609966158551416\n",
      "0.17364983760850297\n",
      "0.229636195690706\n",
      "0.18757376059664055\n",
      "0.2506343845944597\n",
      "0.2305500229915255\n",
      "0.033995397874111585\n",
      "0.24533035632210962\n",
      "0.22499971016585718\n",
      "0.23989481691506367\n",
      "0.21693349581432161\n",
      "0.1897252397826123\n",
      "0.1872253142738008\n",
      "0.2162324509591876\n",
      "0.26463933812956364\n",
      "0.14642449643780983\n",
      "0.32938098394644566\n",
      "0.31202246312574555\n",
      "0.1447110422166624\n",
      "0.21374396370828902\n",
      "0.19956511943785538\n",
      "0.23671703033695582\n",
      "0.18942497865579483\n",
      "0.26171887614297845\n",
      "0.08783520709830503\n",
      "0.048617486853072725\n",
      "0.0273356578753522\n",
      "0.06950116310830935\n",
      "0.24914930778221792\n",
      "0.09626012702641093\n",
      "0.11319716615436695\n",
      "0.14230995452509893\n",
      "0.18634921905018023\n",
      "0.09526098913661646\n",
      "0.2992842637029716\n",
      "0.23645654498504576\n",
      "0.18312905194744203\n",
      "0.2471495197538895\n",
      "0.1652627313131283\n",
      "0.23459201399822233\n",
      "0.2157200148614602\n",
      "0.1423429948762572\n",
      "0.0391628894375845\n",
      "0.14647910030291209\n",
      "0.13729219663625444\n",
      "0.14644167539459582\n",
      "0.07670340775902684\n",
      "0.1454607474456524\n",
      "0.18455986411356085\n",
      "0.1229190500206643\n",
      "0.07133534511293953\n",
      "0.08952774793998279\n",
      "0.11081365624196614\n",
      "0.15064533268699737\n",
      "0.20104985551483734\n",
      "0.04722075803223476\n",
      "0.020173298058445283\n",
      "0.21619927568093153\n",
      "0.008242006028114804\n",
      "0.06939671975250171\n",
      "0.11446812954524055\n",
      "0.1163436722608206\n",
      "0.03366123441725259\n",
      "0.11382683311926967\n",
      "0.1631375258648441\n",
      "0.04791724834568903\n",
      "0.2119248108109799\n",
      "0.004101822767397404\n",
      "0.11321788690736442\n",
      "0.08280437602924169\n",
      "0.22230239429738313\n",
      "0.0477344371521244\n",
      "0.15014412277718198\n",
      "0.14365958013041602\n",
      "0.2233341085664779\n",
      "0.14642631832750544\n",
      "0.16556391126204387\n",
      "0.12454218607813411\n",
      "0.07514678156807598\n",
      "0.08334065683812315\n",
      "0.05274805657203163\n",
      "0.012849964718232585\n",
      "0.1077734431990251\n",
      "0.05100168681842669\n",
      "0.16383832867049983\n",
      "0.13659243374029806\n",
      "0.04460288929876363\n",
      "0.06916695756135254\n",
      "0.17789240336685996\n",
      "0.155133201089528\n",
      "0.005756685782705042\n",
      "0.09878861665590398\n",
      "0.04753347954445216\n",
      "0.06786570741790873\n",
      "0.0223279373919673\n",
      "0.03087588675232086\n",
      "0.07598658993565045\n",
      "0.009363232385495888\n",
      "0.11648151340441322\n",
      "0.055380984800668616\n",
      "0.01778451304855139\n",
      "0.009466771122664688\n",
      "0.018660584145459333\n",
      "0.020308918872081902\n",
      "0.009068633572355251\n",
      "0.048014441687081515\n",
      "0.06863364745805675\n",
      "0.03171208603448215\n",
      "0.030190723390956506\n",
      "0.003625544925478062\n",
      "0.04833144118337681\n",
      "0.02806114027740927\n",
      "0.07387668998254597\n",
      "0.0197531276534835\n",
      "0.042885087932464934\n",
      "0.019626744515935674\n",
      "0.03932468946424508\n",
      "0.03526595301540942\n",
      "0.006969074748124391\n",
      "0.031965144659927336\n",
      "0.027405489311171434\n",
      "0.04748743030367565\n",
      "0.03502533598474278\n",
      "0.0059980539577310105\n",
      "0.03386436874528901\n",
      "0.028528592831250657\n",
      "0.03539042687536458\n",
      "0.06525992791911539\n",
      "0.1283468077891615\n",
      "0.04994397664781335\n",
      "0.024615040980558025\n",
      "0.034591374923063405\n",
      "0.023203668129367677\n",
      "0.020436646905652854\n",
      "0.08752897736868603\n",
      "0.035720735084455564\n",
      "0.004461315886192029\n",
      "0.01260922284666877\n",
      "0.03029277763074079\n",
      "0.00907154912448893\n",
      "0.019706551405162996\n",
      "0.01891556875554018\n",
      "0.032122969406387064\n",
      "0.011503769001782502\n",
      "0.005703911578138316\n",
      "0.0043354925305356135\n"
     ]
    }
   ],
   "source": [
    "inversed_model = inverse(optimizers, error=0.01, placeholders=placeholders, forward_params=forward_params)"
   ]
  },
  {
   "cell_type": "code",
   "execution_count": 140,
   "metadata": {},
   "outputs": [
    {
     "data": {
      "text/plain": [
       "array([ 7.31822513, 21.18522283])"
      ]
     },
     "execution_count": 140,
     "metadata": {},
     "output_type": "execute_result"
    }
   ],
   "source": [
    "inversed_model"
   ]
  },
  {
   "cell_type": "markdown",
   "metadata": {},
   "source": [
    "## Single variable opt"
   ]
  },
  {
   "cell_type": "code",
   "execution_count": 111,
   "metadata": {},
   "outputs": [],
   "source": [
    "from Inversion.Strategies.SeismDiffInversion1D import func_to_optimize"
   ]
  },
  {
   "cell_type": "code",
   "execution_count": 112,
   "metadata": {},
   "outputs": [],
   "source": [
    "forward_params['model'].layers[0].rp_attribute.vals_dict['Km'][\"optimize\"] = False"
   ]
  },
  {
   "cell_type": "code",
   "execution_count": 113,
   "metadata": {},
   "outputs": [],
   "source": [
    "forward_params['model'].layers[1].rp_attribute.vals_dict['Km'][\"optimize\"] = True"
   ]
  },
  {
   "cell_type": "code",
   "execution_count": 114,
   "metadata": {},
   "outputs": [],
   "source": [
    "forward_params['model'].layers[0]['Km'] = 7.3"
   ]
  },
  {
   "cell_type": "code",
   "execution_count": 104,
   "metadata": {},
   "outputs": [],
   "source": [
    "forward_params['model'].layers[1]['Km'] = 21.5"
   ]
  },
  {
   "cell_type": "code",
   "execution_count": 105,
   "metadata": {},
   "outputs": [
    {
     "data": {
      "text/plain": [
       "array([21.5])"
      ]
     },
     "execution_count": 105,
     "metadata": {},
     "output_type": "execute_result"
    }
   ],
   "source": [
    "forward_params['model'].get_optimization_option(\"val\", vectorize=True)"
   ]
  },
  {
   "cell_type": "code",
   "execution_count": 106,
   "metadata": {},
   "outputs": [],
   "source": [
    "min_val = forward_params['model'].get_optimization_option(\"min\", vectorize=True)\n",
    "max_val = forward_params['model'].get_optimization_option(\"max\", vectorize=True)"
   ]
  },
  {
   "cell_type": "code",
   "execution_count": 107,
   "metadata": {},
   "outputs": [],
   "source": [
    "nvals = 30"
   ]
  },
  {
   "cell_type": "code",
   "execution_count": 109,
   "metadata": {},
   "outputs": [],
   "source": [
    "dval = (max_val - min_val) / nvals\n",
    "\n",
    "val_x = [min_val + dval*i for i in range(nvals+1)]\n",
    "errs = []\n",
    "for val in val_x:\n",
    "    errs.append(func_to_optimize(val, placeholders, forward_params, helper=None, show_tol=False))"
   ]
  },
  {
   "cell_type": "code",
   "execution_count": 110,
   "metadata": {},
   "outputs": [
    {
     "data": {
      "text/plain": [
       "[<matplotlib.lines.Line2D at 0x7f8047306208>]"
      ]
     },
     "execution_count": 110,
     "metadata": {},
     "output_type": "execute_result"
    },
    {
     "data": {
      "image/png": "[encoded data removed]",
      "text/plain": [
       "<Figure size 432x288 with 1 Axes>"
      ]
     },
     "metadata": {
      "needs_background": "light"
     },
     "output_type": "display_data"
    }
   ],
   "source": [
    "plt.plot(val_x, errs)"
   ]
  },
  {
   "cell_type": "markdown",
   "metadata": {},
   "source": [
    "## Duo variable opt"
   ]
  },
  {
   "cell_type": "code",
   "execution_count": 7,
   "metadata": {},
   "outputs": [
    {
     "ename": "NameError",
     "evalue": "name 'forward_params' is not defined",
     "output_type": "error",
     "traceback": [
      "\u001b[0;31m---------------------------------------------------------------------------\u001b[0m",
      "\u001b[0;31mNameError\u001b[0m                                 Traceback (most recent call last)",
      "\u001b[0;32m<ipython-input-7-7f3e72e1788b>\u001b[0m in \u001b[0;36m<module>\u001b[0;34m\u001b[0m\n\u001b[0;32m----> 1\u001b[0;31m \u001b[0mforward_params\u001b[0m\u001b[0;34m[\u001b[0m\u001b[0;34m'model'\u001b[0m\u001b[0;34m]\u001b[0m\u001b[0;34m.\u001b[0m\u001b[0mlayers\u001b[0m\u001b[0;34m[\u001b[0m\u001b[0;36m1\u001b[0m\u001b[0;34m]\u001b[0m\u001b[0;34m.\u001b[0m\u001b[0mrp_attribute\u001b[0m\u001b[0;34m.\u001b[0m\u001b[0mvals_dict\u001b[0m\u001b[0;34m[\u001b[0m\u001b[0;34m'Km'\u001b[0m\u001b[0;34m]\u001b[0m\u001b[0;34m[\u001b[0m\u001b[0;34m\"optimize\"\u001b[0m\u001b[0;34m]\u001b[0m \u001b[0;34m=\u001b[0m \u001b[0;32mTrue\u001b[0m\u001b[0;34m\u001b[0m\u001b[0;34m\u001b[0m\u001b[0m\n\u001b[0m",
      "\u001b[0;31mNameError\u001b[0m: name 'forward_params' is not defined"
     ]
    }
   ],
   "source": [
    "forward_params['model'].layers[1].rp_attribute.vals_dict['Km'][\"optimize\"] = True"
   ]
  },
  {
   "cell_type": "code",
   "execution_count": 8,
   "metadata": {},
   "outputs": [
    {
     "ename": "NameError",
     "evalue": "name 'forward_params' is not defined",
     "output_type": "error",
     "traceback": [
      "\u001b[0;31m---------------------------------------------------------------------------\u001b[0m",
      "\u001b[0;31mNameError\u001b[0m                                 Traceback (most recent call last)",
      "\u001b[0;32m<ipython-input-8-02e01500ae72>\u001b[0m in \u001b[0;36m<module>\u001b[0;34m\u001b[0m\n\u001b[0;32m----> 1\u001b[0;31m \u001b[0mforward_params\u001b[0m\u001b[0;34m[\u001b[0m\u001b[0;34m'model'\u001b[0m\u001b[0;34m]\u001b[0m\u001b[0;34m.\u001b[0m\u001b[0mget_optimization_option\u001b[0m\u001b[0;34m(\u001b[0m\u001b[0;34m\"val\"\u001b[0m\u001b[0;34m,\u001b[0m \u001b[0mvectorize\u001b[0m\u001b[0;34m=\u001b[0m\u001b[0;32mTrue\u001b[0m\u001b[0;34m)\u001b[0m\u001b[0;34m\u001b[0m\u001b[0;34m\u001b[0m\u001b[0m\n\u001b[0m",
      "\u001b[0;31mNameError\u001b[0m: name 'forward_params' is not defined"
     ]
    }
   ],
   "source": [
    "forward_params['model'].get_optimization_option(\"val\", vectorize=True)"
   ]
  },
  {
   "cell_type": "code",
   "execution_count": 37,
   "metadata": {},
   "outputs": [],
   "source": [
    "min_val = forward_params['model'].get_optimization_option(\"min\", vectorize=True)\n",
    "max_val = forward_params['model'].get_optimization_option(\"max\", vectorize=True)"
   ]
  },
  {
   "cell_type": "code",
   "execution_count": 52,
   "metadata": {},
   "outputs": [],
   "source": [
    "def f(x, y):\n",
    "    return np.sin(x) ** 10 + np.cos(10 + y * x) * np.cos(x)\n"
   ]
  },
  {
   "cell_type": "code",
   "execution_count": null,
   "metadata": {},
   "outputs": [],
   "source": [
    "dval = (max_val - min_val) / nvals\n",
    "\n",
    "val_1_x = [min_val[0] + dval[0]*i for i in range(nvals[0]+1)]\n",
    "val_2_x = [min_val[1] + dval[1]*i for i in range(nvals[1]+1)]\n",
    "\n",
    "X, Y = np.meshgrid(val_1_x, val_2_x)\n",
    "\n",
    "Z = optimization_func_2D(X, Y)"
   ]
  },
  {
   "cell_type": "code",
   "execution_count": 93,
   "metadata": {},
   "outputs": [
    {
     "data": {
      "text/plain": [
       "(8, 11)"
      ]
     },
     "execution_count": 93,
     "metadata": {},
     "output_type": "execute_result"
    }
   ],
   "source": [
    "Z.shape"
   ]
  },
  {
   "cell_type": "code",
   "execution_count": 94,
   "metadata": {},
   "outputs": [
    {
     "data": {
      "text/plain": [
       "(8, 11)"
      ]
     },
     "execution_count": 94,
     "metadata": {},
     "output_type": "execute_result"
    }
   ],
   "source": [
    "X.shape"
   ]
  },
  {
   "cell_type": "code",
   "execution_count": 98,
   "metadata": {},
   "outputs": [
    {
     "data": {
      "text/plain": [
       "<matplotlib.colorbar.Colorbar at 0x7f8047560400>"
      ]
     },
     "execution_count": 98,
     "metadata": {},
     "output_type": "execute_result"
    },
    {
     "data": {
      "image/png": "[encoded data removed]",
      "text/plain": [
       "<Figure size 432x288 with 2 Axes>"
      ]
     },
     "metadata": {
      "needs_background": "light"
     },
     "output_type": "display_data"
    }
   ],
   "source": [
    "plt.contourf(X, Y, Z, 10, cmap='cool')\n",
    "plt.colorbar()"
   ]
  },
  {
   "cell_type": "markdown",
   "metadata": {},
   "source": [
    "# 3-layered model"
   ]
  },
  {
   "cell_type": "code",
   "execution_count": 117,
   "metadata": {},
   "outputs": [],
   "source": [
    "layer_1_dict, layer_2_dict, layer_3_dict = get_model_3layered()"
   ]
  },
  {
   "cell_type": "code",
   "execution_count": 118,
   "metadata": {},
   "outputs": [],
   "source": [
    "layer_3_1 = Layer1D(h,\n",
    "                  rp_attribute=RockPhysicsAttribute(layer_1_dict[\"components\"], layer_1_dict[\"name\"]),\n",
    "                  seism_attribute=None,\n",
    "                  opt=LayerOPT.RP)\n",
    "\n",
    "layer_3_2 = Layer1D(h,\n",
    "                  rp_attribute=RockPhysicsAttribute(layer_2_dict[\"components\"], layer_2_dict[\"name\"]),\n",
    "                  seism_attribute=None,\n",
    "                  opt=LayerOPT.RP)\n",
    "\n",
    "layer_3_3= Layer1D(-1,\n",
    "                  rp_attribute=RockPhysicsAttribute(layer_3_dict[\"components\"], layer_2_dict[\"name\"]),\n",
    "                  seism_attribute=None,\n",
    "                  opt=LayerOPT.RP)"
   ]
  },
  {
   "cell_type": "code",
   "execution_count": 119,
   "metadata": {},
   "outputs": [],
   "source": [
    "dx = 300\n",
    "nx = 5\n",
    "x_rec = [i * dx for i in range(1, nx+1)]\n",
    "wave_types = [OWT.PdPu]"
   ]
  },
  {
   "cell_type": "code",
   "execution_count": 120,
   "metadata": {},
   "outputs": [],
   "source": [
    "model_3l = SeismicModel1D([layer_3_1, layer_3_2, layer_3_3])"
   ]
  },
  {
   "cell_type": "code",
   "execution_count": 121,
   "metadata": {},
   "outputs": [
    {
     "name": "stdout",
     "output_type": "stream",
     "text": [
      "Calculating rockphysics model...\n",
      "Rockphysics model calculated!\n",
      "Calculating PdPu-rays...\n",
      "Calculating PdPu-reflections...\n",
      "Calculating p-refractions...\n"
     ]
    }
   ],
   "source": [
    "observe, test_seismic = \\\n",
    "    forward_with_trace_calcing(model_3l, x_rec,\n",
    "                               dt=3e-03, trace_len=1500, wavetypes=wave_types, display_stat=True,\n",
    "        visualize_res=False)"
   ]
  },
  {
   "cell_type": "code",
   "execution_count": 122,
   "metadata": {},
   "outputs": [],
   "source": [
    "forward_params = {\n",
    "    \"model\": model_3l,\n",
    "    \"x_rec\": x_rec,\n",
    "    \"dt\": 3e-03,\n",
    "    \"trace_len\": 1500,\n",
    "    \"wavetypes\": wave_types,\n",
    "    \"display_stat\": False,\n",
    "    \"visualize_res\": False\n",
    "}"
   ]
  },
  {
   "cell_type": "code",
   "execution_count": 123,
   "metadata": {},
   "outputs": [],
   "source": [
    "placeholders = {}\n",
    "for wt in wave_types:\n",
    "    placeholders[wt] = WaveDataPlaceholder(\n",
    "        wt,\n",
    "        test_seismic[wt][\"rays\"],\n",
    "        test_seismic[wt][\"seismogram\"]\n",
    "    )"
   ]
  },
  {
   "cell_type": "code",
   "execution_count": 134,
   "metadata": {},
   "outputs": [],
   "source": [
    "optimizers = [\n",
    "    LBFGSBOptimization(\n",
    "        maxiter=15000,\n",
    "        maxfun=15000,\n",
    "        factr=10000,\n",
    "        maxls=50,\n",
    "        epsilon=0.000001\n",
    "    )\n",
    "]"
   ]
  },
  {
   "cell_type": "code",
   "execution_count": 124,
   "metadata": {},
   "outputs": [],
   "source": [
    "optimizers = [\n",
    "    DifferentialEvolution(\n",
    "    )\n",
    "]"
   ]
  },
  {
   "cell_type": "markdown",
   "metadata": {},
   "source": [
    "### Km optimization"
   ]
  },
  {
   "cell_type": "code",
   "execution_count": 135,
   "metadata": {},
   "outputs": [],
   "source": [
    "opt_flag = True\n",
    "# opt_flag = False\n",
    "if opt_flag:\n",
    "    forward_params['model'].layers[0][\"Km\"] = 7.8\n",
    "    forward_params['model'].layers[0].opt = LayerOPT.RP\n",
    "    forward_params['model'].layers[0].rp_attribute.vals_dict['Km']['optimize'] = True\n",
    "    \n",
    "else:\n",
    "    forward_params['model'].layers[0][\"Km\"] = 7.3\n",
    "    forward_params['model'].layers[0].opt = LayerOPT.NO\n",
    "    forward_params['model'].layers[0].rp_attribute.vals_dict['Km']['optimize'] = False"
   ]
  },
  {
   "cell_type": "code",
   "execution_count": 136,
   "metadata": {},
   "outputs": [],
   "source": [
    "# opt_flag = True\n",
    "opt_flag = False\n",
    "\n",
    "if opt_flag:\n",
    "    forward_params['model'].layers[1][\"Km\"] = 24\n",
    "    forward_params['model'].layers[1].opt = LayerOPT.RP\n",
    "    forward_params['model'].layers[1].rp_attribute.vals_dict['Km']['optimize'] = True\n",
    "\n",
    "else:\n",
    "    # TRUE VALUE\n",
    "    forward_params['model'].layers[1][\"Km\"] = 21.5\n",
    "    forward_params['model'].layers[1].opt = LayerOPT.NO\n",
    "    forward_params['model'].layers[1].rp_attribute.vals_dict['Km']['optimize'] = False\n",
    "\n"
   ]
  },
  {
   "cell_type": "code",
   "execution_count": 137,
   "metadata": {},
   "outputs": [],
   "source": [
    "# opt_flag = True\n",
    "opt_flag = False\n",
    "\n",
    "if opt_flag:\n",
    "    forward_params['model'].layers[2][\"Km\"] = 20\n",
    "    forward_params['model'].layers[2].opt = LayerOPT.RP\n",
    "    forward_params['model'].layers[2].rp_attribute.vals_dict['Km']['optimize'] = True\n",
    "\n",
    "else:\n",
    "    # TRUE VALUE\n",
    "    forward_params['model'].layers[2][\"Km\"] = 22\n",
    "    forward_params['model'].layers[2].opt = LayerOPT.NO\n",
    "    forward_params['model'].layers[2].rp_attribute.vals_dict['Km']['optimize'] = False\n",
    "\n"
   ]
  },
  {
   "cell_type": "markdown",
   "metadata": {},
   "source": [
    "### Gm optimization"
   ]
  },
  {
   "cell_type": "code",
   "execution_count": 51,
   "metadata": {},
   "outputs": [],
   "source": [
    "# opt_flag = True\n",
    "opt_flag = False\n",
    "if opt_flag:\n",
    "    forward_params['model'].layers[0][\"Gm\"] = 5\n",
    "    forward_params['model'].layers[0].opt = LayerOPT.RP\n",
    "    forward_params['model'].layers[0].rp_attribute.vals_dict['Gm']['optimize'] = True\n",
    "    \n",
    "else:\n",
    "    forward_params['model'].layers[0][\"Gm\"] = 2.71\n",
    "    forward_params['model'].layers[0].opt = LayerOPT.NO\n",
    "    forward_params['model'].layers[0].rp_attribute.vals_dict['Gm']['optimize'] = False"
   ]
  },
  {
   "cell_type": "code",
   "execution_count": 52,
   "metadata": {},
   "outputs": [],
   "source": [
    "# opt_flag = True\n",
    "opt_flag = False\n",
    "\n",
    "if opt_flag:\n",
    "    forward_params['model'].layers[1][\"Gm\"] = 15\n",
    "    forward_params['model'].layers[1].opt = LayerOPT.RP\n",
    "    forward_params['model'].layers[1].rp_attribute.vals_dict['Gm']['optimize'] = True\n",
    "\n",
    "else:\n",
    "    # TRUE VALUE\n",
    "    forward_params['model'].layers[1][\"Gm\"] = 17.5\n",
    "    forward_params['model'].layers[1].opt = LayerOPT.NO\n",
    "    forward_params['model'].layers[1].rp_attribute.vals_dict['Gm']['optimize'] = False\n",
    "\n"
   ]
  },
  {
   "cell_type": "code",
   "execution_count": 54,
   "metadata": {},
   "outputs": [],
   "source": [
    "# opt_flag = True\n",
    "opt_flag = False\n",
    "\n",
    "if opt_flag:\n",
    "    forward_params['model'].layers[2][\"Gm\"] = 15\n",
    "    forward_params['model'].layers[2].opt = LayerOPT.RP\n",
    "    forward_params['model'].layers[2].rp_attribute.vals_dict['Gm']['optimize'] = True\n",
    "\n",
    "else:\n",
    "    # TRUE VALUE\n",
    "    forward_params['model'].layers[2][\"Gm\"] = 10.7\n",
    "    forward_params['model'].layers[2].opt = LayerOPT.NO\n",
    "    forward_params['model'].layers[2].rp_attribute.vals_dict['Gm']['optimize'] = False\n",
    "\n"
   ]
  },
  {
   "cell_type": "markdown",
   "metadata": {},
   "source": [
    "## Model calcing"
   ]
  },
  {
   "cell_type": "code",
   "execution_count": 138,
   "metadata": {
    "scrolled": true
   },
   "outputs": [
    {
     "name": "stdout",
     "output_type": "stream",
     "text": [
      "1.312018687808697\n",
      "1.3120271654205542\n",
      "3.280484543094032\n",
      "3.280484474706101\n",
      "0.44711150085055734\n",
      "0.44711142962303957\n",
      "0.44661956452305185\n",
      "0.44661948876840873\n",
      "0.39559585055659585\n",
      "0.3955957502860886\n",
      "0.2890443240869008\n",
      "0.2890439906972439\n",
      "0.926348791333576\n",
      "0.9263461464536831\n",
      "0.2814158570747419\n",
      "0.28141549222164675\n",
      "0.27463593415107856\n",
      "0.27463554243161703\n",
      "0.3128841913709639\n",
      "0.31289001726094046\n",
      "0.17856219760621836\n",
      "0.17856102681077868\n",
      "0.06381611777746105\n",
      "0.06381403152015458\n",
      "0.06127049223557853\n",
      "0.06127278317852551\n",
      "0.06127049223557853\n",
      "0.06127278317852551\n",
      "0.44642414867276764\n",
      "0.44642407116128774\n",
      "0.17789117266417623\n",
      "0.1778899945895876\n",
      "0.05963765230437488\n",
      "0.05963551145434245\n",
      "0.054884033893593046\n",
      "0.05488623814619679\n",
      "0.05681201636728847\n",
      "0.056809838218589974\n",
      "0.05442939746506695\n",
      "0.0544271876260919\n",
      "0.05442939746506695\n",
      "0.0544271876260919\n",
      "0.05769049514350417\n",
      "0.05769273729640502\n",
      "0.054791239410679676\n",
      "0.05479344241531442\n",
      "0.05439360471372023\n",
      "0.054395802374505885\n",
      "0.054386799827645244\n",
      "0.05438458942013944\n",
      "0.05437260496185496\n",
      "0.054374802340546\n",
      "0.0543761453728126\n",
      "0.05437393482295373\n",
      "0.05436952732211242\n",
      "0.054371724659557134\n",
      "0.05437359675439019\n",
      "0.05437138617064148\n",
      "0.05436952732211242\n",
      "0.054371724659557134\n",
      "0.0543989400204957\n",
      "0.05439672977500398\n",
      "0.054372966882243856\n",
      "0.054370756290044696\n",
      "0.05436936917033106\n",
      "0.05437100913889626\n",
      "0.054371487183386566\n",
      "0.05436927657139107\n",
      "0.0543696163170959\n",
      "0.054370763477092555\n",
      "0.05436938906045431\n",
      "0.05437098936826246\n",
      "0.054369370705286905\n",
      "0.05437100761314154\n",
      "0.05436936928836315\n",
      "0.05437100902155434\n",
      "0.054369369179347926\n",
      "0.054371009129856214\n",
      "0.05436936917104063\n",
      "0.05437100913819518\n",
      "0.05436936917033166\n",
      "0.05437100913884096\n",
      "0.05436936917033089\n",
      "0.05437100913886896\n",
      "0.05436936917035655\n",
      "0.05437100913884316\n",
      "0.05436936917033089\n",
      "0.05437100913886896\n",
      "0.05436936917033089\n",
      "0.05437100913886896\n",
      "0.05436936917033101\n",
      "0.05437100913884316\n",
      "0.05436936917033089\n",
      "0.05437100913886896\n",
      "0.05436936917030808\n",
      "0.054371009138842435\n",
      "0.05436936917030808\n",
      "0.054371009138842435\n",
      "0.05436936917030808\n",
      "0.054371009138842435\n",
      "0.05436936917030808\n",
      "0.054371009138842435\n",
      "0.05436936917030808\n",
      "0.054371009138842435\n",
      "0.05436936917030808\n",
      "0.054371009138842435\n",
      "0.05436936917030808\n",
      "0.054371009138842435\n"
     ]
    }
   ],
   "source": [
    "inversed_model = inverse(optimizers, error=0.01, placeholders=placeholders, forward_params=forward_params)"
   ]
  },
  {
   "cell_type": "code",
   "execution_count": 139,
   "metadata": {},
   "outputs": [
    {
     "data": {
      "text/plain": [
       "array([7.29999987])"
      ]
     },
     "execution_count": 139,
     "metadata": {},
     "output_type": "execute_result"
    }
   ],
   "source": [
    "inversed_model"
   ]
  },
  {
   "cell_type": "code",
   "execution_count": 152,
   "metadata": {},
   "outputs": [
    {
     "data": {
      "image/png": "[encoded data removed]",
      "text/plain": [
       "<Figure size 432x288 with 1 Axes>"
      ]
     },
     "metadata": {
      "needs_background": "light"
     },
     "output_type": "display_data"
    }
   ],
   "source": [
    "plot_1D_err(forward_params, 50, [7.89, 7.895])"
   ]
  },
  {
   "cell_type": "code",
   "execution_count": 82,
   "metadata": {},
   "outputs": [
    {
     "data": {
      "image/png": "[encoded data removed]",
      "text/plain": [
       "<Figure size 432x288 with 2 Axes>"
      ]
     },
     "metadata": {
      "needs_background": "light"
     },
     "output_type": "display_data"
    }
   ],
   "source": [
    "plot_2D_err(forward_params, [4, 4], 20)"
   ]
  },
  {
   "cell_type": "code",
   "execution_count": 143,
   "metadata": {},
   "outputs": [
    {
     "name": "stdout",
     "output_type": "stream",
     "text": [
      "Calculating rockphysics model...\n",
      "Rockphysics model calculated!\n",
      "Calculating PdPu-rays...\n",
      "Calculating PdPu-reflections...\n",
      "Calculating p-refractions...\n"
     ]
    },
    {
     "data": {
      "image/png": "[encoded data removed]",
      "text/plain": [
       "<Figure size 432x288 with 1 Axes>"
      ]
     },
     "metadata": {
      "needs_background": "light"
     },
     "output_type": "display_data"
    }
   ],
   "source": [
    "res = forward_with_trace_calcing(forward_params['model'], forward_params['x_rec'], \n",
    "                           dt=forward_params['dt'], \n",
    "                           trace_len=forward_params['trace_len'], \n",
    "                           wavetypes=forward_params['wavetypes'],\n",
    "            display_stat=True, visualize_res=False,\n",
    "                               visualize_seismograms=True\n",
    "            )"
   ]
  },
  {
   "cell_type": "code",
   "execution_count": null,
   "metadata": {},
   "outputs": [],
   "source": []
  }
 ],
 "metadata": {
  "kernelspec": {
   "display_name": "rpsi",
   "language": "python",
   "name": "rpsi"
  },
  "language_info": {
   "codemirror_mode": {
    "name": "ipython",
    "version": 3
   },
   "file_extension": ".py",
   "mimetype": "text/x-python",
   "name": "python",
   "nbconvert_exporter": "python",
   "pygments_lexer": "ipython3",
   "version": "3.7.3"
  }
 },
 "nbformat": 4,
 "nbformat_minor": 2
}
